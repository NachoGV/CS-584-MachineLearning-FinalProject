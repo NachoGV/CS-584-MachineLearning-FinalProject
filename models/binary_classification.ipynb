{
 "cells": [
  {
   "cell_type": "markdown",
   "metadata": {},
   "source": [
    "# Model Comparison\n",
    "\n",
    "## Imports"
   ]
  },
  {
   "cell_type": "code",
   "execution_count": 1,
   "metadata": {},
   "outputs": [],
   "source": [
    "# Custom\n",
    "import sys\n",
    "sys.path.append('../')\n",
    "from utils.dataset_manager import fit_dataset, get_classes_weights\n",
    "from utils.constant import ALL_ATTACKS, FEATURES, LABELS\n",
    "\n",
    "# Models\n",
    "from xgboost import XGBClassifier\n",
    "from sklearn.ensemble import RandomForestClassifier\n",
    "from sklearn.linear_model import LogisticRegression\n",
    "from sklearn.metrics import accuracy_score, recall_score, precision_score, f1_score, classification_report\n",
    "\n",
    "# Other\n",
    "import warnings\n",
    "from tqdm import tqdm\n",
    "\n",
    "# Ignore warnings\n",
    "warnings.filterwarnings('ignore')"
   ]
  },
  {
   "cell_type": "markdown",
   "metadata": {},
   "source": [
    "## Dataset"
   ]
  },
  {
   "cell_type": "code",
   "execution_count": 2,
   "metadata": {},
   "outputs": [
    {
     "name": "stderr",
     "output_type": "stream",
     "text": [
      "100%|██████████| 20/20 [00:18<00:00,  1.07it/s]\n",
      "100%|██████████| 6/6 [00:04<00:00,  1.26it/s]\n"
     ]
    },
    {
     "name": "stdout",
     "output_type": "stream",
     "text": [
      "Training Population: 522642\n",
      "Testing Population: 182230\n"
     ]
    }
   ],
   "source": [
    "n_files = 20\n",
    "\n",
    "df_train, df_test = fit_dataset(n_files, ALL_ATTACKS)\n",
    "\n",
    "# Binary classification: Bening traffic vs. DDoS traffic\n",
    "df_train = df_train[(df_train[LABELS] == ALL_ATTACKS['DDoS-SYN_Flood']) | (df_train[LABELS] == ALL_ATTACKS['BenignTraffic'])]\n",
    "df_test = df_test[(df_test[LABELS] == ALL_ATTACKS['DDoS-SYN_Flood']) | (df_test[LABELS] == ALL_ATTACKS['BenignTraffic'])]\n",
    "\n",
    "df_train[LABELS] = df_train[LABELS].apply(lambda x: 1 if x == ALL_ATTACKS['DDoS-SYN_Flood'] else 0)\n",
    "df_test[LABELS] = df_test[LABELS].apply(lambda x: 1 if x == ALL_ATTACKS['DDoS-SYN_Flood'] else 0)\n",
    "\n",
    "X_train, y_train = df_train[FEATURES], df_train[LABELS]\n",
    "X_test, y_test = df_test[FEATURES], df_test[LABELS]\n",
    "\n",
    "# Prints\n",
    "print('Training Population: {}'.format(len(df_train)))\n",
    "print('Testing Population: {}'.format(len(df_test)))"
   ]
  },
  {
   "cell_type": "code",
   "execution_count": 3,
   "metadata": {},
   "outputs": [
    {
     "data": {
      "text/plain": [
       "{1: 0.6351468279237982, 0: 2.3498399395726928}"
      ]
     },
     "execution_count": 3,
     "metadata": {},
     "output_type": "execute_result"
    }
   ],
   "source": [
    "get_classes_weights(df_train)"
   ]
  },
  {
   "cell_type": "markdown",
   "metadata": {},
   "source": [
    "## Models"
   ]
  },
  {
   "cell_type": "markdown",
   "metadata": {},
   "source": [
    "Since we have unbalanced data, we have to add their weigth in each model"
   ]
  },
  {
   "cell_type": "code",
   "execution_count": 4,
   "metadata": {},
   "outputs": [],
   "source": [
    "models = {\n",
    "    'log_reg': LogisticRegression(class_weight=get_classes_weights(df_train)),\n",
    "    'xgb': XGBClassifier(scale_pos_weight=sum(y_train == 0) / sum(y_train == 1)),\n",
    "    'rf': RandomForestClassifier(class_weight=get_classes_weights(df_train)),\n",
    "}"
   ]
  },
  {
   "cell_type": "markdown",
   "metadata": {},
   "source": [
    "### Training"
   ]
  },
  {
   "cell_type": "code",
   "execution_count": 5,
   "metadata": {},
   "outputs": [
    {
     "name": "stderr",
     "output_type": "stream",
     "text": [
      "100%|██████████| 3/3 [01:09<00:00, 23.31s/it]\n"
     ]
    }
   ],
   "source": [
    "for model in tqdm(models):\n",
    "    models[model].fit(X_train, y_train)"
   ]
  },
  {
   "cell_type": "markdown",
   "metadata": {},
   "source": [
    "## Evaluation"
   ]
  },
  {
   "cell_type": "code",
   "execution_count": 6,
   "metadata": {},
   "outputs": [
    {
     "name": "stderr",
     "output_type": "stream",
     "text": [
      "  0%|          | 0/3 [00:00<?, ?it/s]"
     ]
    },
    {
     "name": "stdout",
     "output_type": "stream",
     "text": [
      "Model:  log_reg\n",
      "  accuracy_score =  0.9991219886956044\n",
      "  recall_score =  0.9979603475808431\n",
      "  precision_score =  0.9994237241189936\n",
      "  f1_score =  0.9986898702253497\n"
     ]
    },
    {
     "name": "stderr",
     "output_type": "stream",
     "text": [
      " 33%|███▎      | 1/3 [00:00<00:01,  1.32it/s]"
     ]
    },
    {
     "name": "stdout",
     "output_type": "stream",
     "text": [
      "  classification_report = \n",
      "               precision    recall  f1-score   support\n",
      "\n",
      "           0       1.00      1.00      1.00     38865\n",
      "           1       1.00      1.00      1.00    143365\n",
      "\n",
      "    accuracy                           1.00    182230\n",
      "   macro avg       1.00      1.00      1.00    182230\n",
      "weighted avg       1.00      1.00      1.00    182230\n",
      " \n",
      "\n",
      "\n",
      "Model:  xgb\n",
      "  accuracy_score =  0.9999945124293476\n",
      "  recall_score =  0.9999965162135422\n",
      "  precision_score =  0.9999870831072877\n",
      "  f1_score =  0.9999917995709224\n"
     ]
    },
    {
     "name": "stderr",
     "output_type": "stream",
     "text": [
      " 67%|██████▋   | 2/3 [00:01<00:00,  1.21it/s]"
     ]
    },
    {
     "name": "stdout",
     "output_type": "stream",
     "text": [
      "  classification_report = \n",
      "               precision    recall  f1-score   support\n",
      "\n",
      "           0       1.00      1.00      1.00     38708\n",
      "           1       1.00      1.00      1.00    143522\n",
      "\n",
      "    accuracy                           1.00    182230\n",
      "   macro avg       1.00      1.00      1.00    182230\n",
      "weighted avg       1.00      1.00      1.00    182230\n",
      " \n",
      "\n",
      "\n",
      "Model:  rf\n",
      "  accuracy_score =  0.999989024858695\n",
      "  recall_score =  0.9999835992965562\n",
      "  precision_score =  0.9999835992965562\n",
      "  f1_score =  0.9999835992965562\n"
     ]
    },
    {
     "name": "stderr",
     "output_type": "stream",
     "text": [
      "100%|██████████| 3/3 [00:04<00:00,  1.35s/it]"
     ]
    },
    {
     "name": "stdout",
     "output_type": "stream",
     "text": [
      "  classification_report = \n",
      "               precision    recall  f1-score   support\n",
      "\n",
      "           0       1.00      1.00      1.00     38709\n",
      "           1       1.00      1.00      1.00    143521\n",
      "\n",
      "    accuracy                           1.00    182230\n",
      "   macro avg       1.00      1.00      1.00    182230\n",
      "weighted avg       1.00      1.00      1.00    182230\n",
      " \n",
      "\n",
      "\n"
     ]
    },
    {
     "name": "stderr",
     "output_type": "stream",
     "text": [
      "\n"
     ]
    }
   ],
   "source": [
    "# Predict\n",
    "for model in tqdm(models):\n",
    "    y_pred = list(models[model].predict(X_test))\n",
    "\n",
    "    # Evaluate\n",
    "    y_test = list(y_test)\n",
    "    print('Model: ', model)\n",
    "    print('  accuracy_score = ', accuracy_score(y_pred, y_test))\n",
    "    print('  recall_score = ', recall_score(y_pred, y_test, average='macro'))\n",
    "    print('  precision_score = ', precision_score(y_pred, y_test, average='macro'))\n",
    "    print('  f1_score = ', f1_score(y_pred, y_test, average='macro'))\n",
    "    print('  classification_report = \\n', classification_report(y_pred, y_test), '\\n\\n')"
   ]
  }
 ],
 "metadata": {
  "kernelspec": {
   "display_name": "ml_finalproject",
   "language": "python",
   "name": "python3"
  },
  "language_info": {
   "codemirror_mode": {
    "name": "ipython",
    "version": 3
   },
   "file_extension": ".py",
   "mimetype": "text/x-python",
   "name": "python",
   "nbconvert_exporter": "python",
   "pygments_lexer": "ipython3",
   "version": "3.9.12"
  }
 },
 "nbformat": 4,
 "nbformat_minor": 2
}
