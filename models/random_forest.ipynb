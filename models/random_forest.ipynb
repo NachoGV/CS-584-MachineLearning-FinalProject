{
 "cells": [
  {
   "cell_type": "markdown",
   "metadata": {},
   "source": [
    "# Random Forest Model\n",
    "\n",
    "## Imports"
   ]
  },
  {
   "cell_type": "code",
   "execution_count": 4,
   "metadata": {},
   "outputs": [],
   "source": [
    "# Custom\n",
    "import sys\n",
    "sys.path.append('../')\n",
    "from utils.constant import FEATURES, LABELS, ALL_ATTACKS\n",
    "from utils.dataset_manager import fit_dataset, get_classes_weights\n",
    "\n",
    "# General\n",
    "import warnings\n",
    "from joblib import dump\n",
    "\n",
    "# Model and Metrics\n",
    "from sklearn.metrics import classification_report\n",
    "from sklearn.ensemble import RandomForestClassifier\n",
    "\n",
    "# Warnings\n",
    "warnings.filterwarnings('ignore')"
   ]
  },
  {
   "cell_type": "markdown",
   "metadata": {},
   "source": [
    "## Dataset\n"
   ]
  },
  {
   "cell_type": "code",
   "execution_count": 5,
   "metadata": {},
   "outputs": [
    {
     "name": "stderr",
     "output_type": "stream",
     "text": [
      "100%|██████████| 20/20 [00:38<00:00,  1.90s/it]\n",
      "100%|██████████| 6/6 [00:07<00:00,  1.27s/it]\n"
     ]
    },
    {
     "name": "stdout",
     "output_type": "stream",
     "text": [
      "Training Population: 4723822\n",
      "Testing Population: 1648176\n"
     ]
    }
   ],
   "source": [
    "n_files = 20\n",
    "\n",
    "df_train, df_test = fit_dataset(n_files, ALL_ATTACKS)\n",
    "\n",
    "X_train, y_train = df_train[FEATURES], df_train[LABELS]\n",
    "\n",
    "# Prints\n",
    "print('Training Population: {}'.format(len(df_train)))\n",
    "print('Testing Population: {}'.format(len(df_test)))"
   ]
  },
  {
   "cell_type": "markdown",
   "metadata": {},
   "source": [
    "# Model"
   ]
  },
  {
   "cell_type": "code",
   "execution_count": 6,
   "metadata": {},
   "outputs": [
    {
     "data": {
      "text/html": [
       "<style>#sk-container-id-1 {color: black;}#sk-container-id-1 pre{padding: 0;}#sk-container-id-1 div.sk-toggleable {background-color: white;}#sk-container-id-1 label.sk-toggleable__label {cursor: pointer;display: block;width: 100%;margin-bottom: 0;padding: 0.3em;box-sizing: border-box;text-align: center;}#sk-container-id-1 label.sk-toggleable__label-arrow:before {content: \"▸\";float: left;margin-right: 0.25em;color: #696969;}#sk-container-id-1 label.sk-toggleable__label-arrow:hover:before {color: black;}#sk-container-id-1 div.sk-estimator:hover label.sk-toggleable__label-arrow:before {color: black;}#sk-container-id-1 div.sk-toggleable__content {max-height: 0;max-width: 0;overflow: hidden;text-align: left;background-color: #f0f8ff;}#sk-container-id-1 div.sk-toggleable__content pre {margin: 0.2em;color: black;border-radius: 0.25em;background-color: #f0f8ff;}#sk-container-id-1 input.sk-toggleable__control:checked~div.sk-toggleable__content {max-height: 200px;max-width: 100%;overflow: auto;}#sk-container-id-1 input.sk-toggleable__control:checked~label.sk-toggleable__label-arrow:before {content: \"▾\";}#sk-container-id-1 div.sk-estimator input.sk-toggleable__control:checked~label.sk-toggleable__label {background-color: #d4ebff;}#sk-container-id-1 div.sk-label input.sk-toggleable__control:checked~label.sk-toggleable__label {background-color: #d4ebff;}#sk-container-id-1 input.sk-hidden--visually {border: 0;clip: rect(1px 1px 1px 1px);clip: rect(1px, 1px, 1px, 1px);height: 1px;margin: -1px;overflow: hidden;padding: 0;position: absolute;width: 1px;}#sk-container-id-1 div.sk-estimator {font-family: monospace;background-color: #f0f8ff;border: 1px dotted black;border-radius: 0.25em;box-sizing: border-box;margin-bottom: 0.5em;}#sk-container-id-1 div.sk-estimator:hover {background-color: #d4ebff;}#sk-container-id-1 div.sk-parallel-item::after {content: \"\";width: 100%;border-bottom: 1px solid gray;flex-grow: 1;}#sk-container-id-1 div.sk-label:hover label.sk-toggleable__label {background-color: #d4ebff;}#sk-container-id-1 div.sk-serial::before {content: \"\";position: absolute;border-left: 1px solid gray;box-sizing: border-box;top: 0;bottom: 0;left: 50%;z-index: 0;}#sk-container-id-1 div.sk-serial {display: flex;flex-direction: column;align-items: center;background-color: white;padding-right: 0.2em;padding-left: 0.2em;position: relative;}#sk-container-id-1 div.sk-item {position: relative;z-index: 1;}#sk-container-id-1 div.sk-parallel {display: flex;align-items: stretch;justify-content: center;background-color: white;position: relative;}#sk-container-id-1 div.sk-item::before, #sk-container-id-1 div.sk-parallel-item::before {content: \"\";position: absolute;border-left: 1px solid gray;box-sizing: border-box;top: 0;bottom: 0;left: 50%;z-index: -1;}#sk-container-id-1 div.sk-parallel-item {display: flex;flex-direction: column;z-index: 1;position: relative;background-color: white;}#sk-container-id-1 div.sk-parallel-item:first-child::after {align-self: flex-end;width: 50%;}#sk-container-id-1 div.sk-parallel-item:last-child::after {align-self: flex-start;width: 50%;}#sk-container-id-1 div.sk-parallel-item:only-child::after {width: 0;}#sk-container-id-1 div.sk-dashed-wrapped {border: 1px dashed gray;margin: 0 0.4em 0.5em 0.4em;box-sizing: border-box;padding-bottom: 0.4em;background-color: white;}#sk-container-id-1 div.sk-label label {font-family: monospace;font-weight: bold;display: inline-block;line-height: 1.2em;}#sk-container-id-1 div.sk-label-container {text-align: center;}#sk-container-id-1 div.sk-container {/* jupyter's `normalize.less` sets `[hidden] { display: none; }` but bootstrap.min.css set `[hidden] { display: none !important; }` so we also need the `!important` here to be able to override the default hidden behavior on the sphinx rendered scikit-learn.org. See: https://github.com/scikit-learn/scikit-learn/issues/21755 */display: inline-block !important;position: relative;}#sk-container-id-1 div.sk-text-repr-fallback {display: none;}</style><div id=\"sk-container-id-1\" class=\"sk-top-container\"><div class=\"sk-text-repr-fallback\"><pre>RandomForestClassifier(class_weight={0: 0.33980052871041416,\n",
       "                                     1: 0.3350857664616731,\n",
       "                                     2: 0.3376870680995508,\n",
       "                                     3: 0.2537652031175832,\n",
       "                                     4: 0.30485322158230466,\n",
       "                                     5: 0.19060258348054077,\n",
       "                                     6: 0.38241600495572825,\n",
       "                                     7: 4.799832141797506, 8: 4.739899739917801,\n",
       "                                     9: 3.0395751641136446,\n",
       "                                     10: 57.865864713232234,\n",
       "                                     11: 48.00827269401195,\n",
       "                                     12: 0.41349367175033286,\n",
       "                                     13: 0.681025151592915,\n",
       "                                     14: 0.5141034422938497,\n",
       "                                     15: 19.021897751433542,\n",
       "                                     16: 1.3943791768011902,\n",
       "                                     17: 1.8195811878106578,\n",
       "                                     18: 1.5384336305666104,\n",
       "                                     19: 705.2585846521349,\n",
       "                                     20: 13.854800675754944,\n",
       "                                     21: 16.857066388797694,\n",
       "                                     22: 36.523643842395, 23: 10.22791086399224,\n",
       "                                     24: 7.605010738216136,\n",
       "                                     25: 4.456646068210764,\n",
       "                                     26: 1.2493340512955056,\n",
       "                                     27: 246.34032123487694,\n",
       "                                     28: 387.00819269211866,\n",
       "                                     29: 370.4958431372549, ...})</pre><b>In a Jupyter environment, please rerun this cell to show the HTML representation or trust the notebook. <br />On GitHub, the HTML representation is unable to render, please try loading this page with nbviewer.org.</b></div><div class=\"sk-container\" hidden><div class=\"sk-item\"><div class=\"sk-estimator sk-toggleable\"><input class=\"sk-toggleable__control sk-hidden--visually\" id=\"sk-estimator-id-1\" type=\"checkbox\" checked><label for=\"sk-estimator-id-1\" class=\"sk-toggleable__label sk-toggleable__label-arrow\">RandomForestClassifier</label><div class=\"sk-toggleable__content\"><pre>RandomForestClassifier(class_weight={0: 0.33980052871041416,\n",
       "                                     1: 0.3350857664616731,\n",
       "                                     2: 0.3376870680995508,\n",
       "                                     3: 0.2537652031175832,\n",
       "                                     4: 0.30485322158230466,\n",
       "                                     5: 0.19060258348054077,\n",
       "                                     6: 0.38241600495572825,\n",
       "                                     7: 4.799832141797506, 8: 4.739899739917801,\n",
       "                                     9: 3.0395751641136446,\n",
       "                                     10: 57.865864713232234,\n",
       "                                     11: 48.00827269401195,\n",
       "                                     12: 0.41349367175033286,\n",
       "                                     13: 0.681025151592915,\n",
       "                                     14: 0.5141034422938497,\n",
       "                                     15: 19.021897751433542,\n",
       "                                     16: 1.3943791768011902,\n",
       "                                     17: 1.8195811878106578,\n",
       "                                     18: 1.5384336305666104,\n",
       "                                     19: 705.2585846521349,\n",
       "                                     20: 13.854800675754944,\n",
       "                                     21: 16.857066388797694,\n",
       "                                     22: 36.523643842395, 23: 10.22791086399224,\n",
       "                                     24: 7.605010738216136,\n",
       "                                     25: 4.456646068210764,\n",
       "                                     26: 1.2493340512955056,\n",
       "                                     27: 246.34032123487694,\n",
       "                                     28: 387.00819269211866,\n",
       "                                     29: 370.4958431372549, ...})</pre></div></div></div></div></div>"
      ],
      "text/plain": [
       "RandomForestClassifier(class_weight={0: 0.33980052871041416,\n",
       "                                     1: 0.3350857664616731,\n",
       "                                     2: 0.3376870680995508,\n",
       "                                     3: 0.2537652031175832,\n",
       "                                     4: 0.30485322158230466,\n",
       "                                     5: 0.19060258348054077,\n",
       "                                     6: 0.38241600495572825,\n",
       "                                     7: 4.799832141797506, 8: 4.739899739917801,\n",
       "                                     9: 3.0395751641136446,\n",
       "                                     10: 57.865864713232234,\n",
       "                                     11: 48.00827269401195,\n",
       "                                     12: 0.41349367175033286,\n",
       "                                     13: 0.681025151592915,\n",
       "                                     14: 0.5141034422938497,\n",
       "                                     15: 19.021897751433542,\n",
       "                                     16: 1.3943791768011902,\n",
       "                                     17: 1.8195811878106578,\n",
       "                                     18: 1.5384336305666104,\n",
       "                                     19: 705.2585846521349,\n",
       "                                     20: 13.854800675754944,\n",
       "                                     21: 16.857066388797694,\n",
       "                                     22: 36.523643842395, 23: 10.22791086399224,\n",
       "                                     24: 7.605010738216136,\n",
       "                                     25: 4.456646068210764,\n",
       "                                     26: 1.2493340512955056,\n",
       "                                     27: 246.34032123487694,\n",
       "                                     28: 387.00819269211866,\n",
       "                                     29: 370.4958431372549, ...})"
      ]
     },
     "execution_count": 6,
     "metadata": {},
     "output_type": "execute_result"
    }
   ],
   "source": [
    "# Model\n",
    "rf_model = RandomForestClassifier(class_weight=get_classes_weights(df_train))\n",
    "\n",
    "# Train\n",
    "rf_model.fit(X_train, y_train)"
   ]
  },
  {
   "cell_type": "code",
   "execution_count": 7,
   "metadata": {},
   "outputs": [
    {
     "data": {
      "text/plain": [
       "['../outputs/random_forest_20.joblib']"
      ]
     },
     "execution_count": 7,
     "metadata": {},
     "output_type": "execute_result"
    }
   ],
   "source": [
    "# Save Model\n",
    "name = f\"../outputs/random_forest_{n_files}.joblib\"\n",
    "dump(rf_model, name)"
   ]
  },
  {
   "cell_type": "markdown",
   "metadata": {},
   "source": [
    "# Evaluation"
   ]
  },
  {
   "cell_type": "code",
   "execution_count": 8,
   "metadata": {},
   "outputs": [
    {
     "name": "stdout",
     "output_type": "stream",
     "text": [
      "Classification Report: \n",
      "              precision    recall  f1-score   support\n",
      "\n",
      "           0       1.00      1.00      1.00    142361\n",
      "           1       1.00      1.00      1.00    144128\n",
      "           2       1.00      1.00      1.00    143521\n",
      "           3       1.00      1.00      1.00    191686\n",
      "           4       1.00      1.00      1.00    159101\n",
      "           5       1.00      1.00      1.00    254077\n",
      "           6       1.00      1.00      1.00    126849\n",
      "           7       1.00      0.99      0.99     10061\n",
      "           8       1.00      1.00      1.00     10244\n",
      "           9       0.99      1.00      1.00     16043\n",
      "          10       0.98      0.99      0.98       844\n",
      "          11       1.00      0.96      0.98      1050\n",
      "          12       1.00      1.00      1.00    116827\n",
      "          13       1.00      1.00      1.00     71688\n",
      "          14       1.00      1.00      1.00     94194\n",
      "          15       0.99      0.99      0.99      2474\n",
      "          16       1.00      1.00      1.00     35144\n",
      "          17       1.00      1.00      1.00     26641\n",
      "          18       1.00      1.00      1.00     31378\n",
      "          19       0.67      0.05      0.09        84\n",
      "          20       0.86      0.56      0.68      3415\n",
      "          21       0.85      0.59      0.70      2966\n",
      "          22       1.00      0.99      1.00      1328\n",
      "          23       0.86      0.82      0.84      4732\n",
      "          24       0.85      0.70      0.77      6290\n",
      "          25       0.92      0.81      0.86     11020\n",
      "          26       0.86      0.99      0.92     38709\n",
      "          27       0.97      0.18      0.31       198\n",
      "          28       0.97      0.27      0.42       124\n",
      "          29       0.97      0.57      0.72       132\n",
      "          30       1.00      0.44      0.61        48\n",
      "          31       0.79      0.13      0.23       175\n",
      "          32       0.99      0.51      0.68       206\n",
      "          33       1.00      0.26      0.41       438\n",
      "\n",
      "    accuracy                           0.99   1648176\n",
      "   macro avg       0.96      0.79      0.83   1648176\n",
      "weighted avg       0.99      0.99      0.99   1648176\n",
      "\n"
     ]
    }
   ],
   "source": [
    "X_test , y_test = df_test[FEATURES], df_test[LABELS]\n",
    "\n",
    "# Predict\n",
    "y_pred = rf_model.predict(X_test)\n",
    "\n",
    "# Evaluate\n",
    "print('Classification Report: \\n{}'.format(classification_report(y_test, y_pred)))"
   ]
  }
 ],
 "metadata": {
  "kernelspec": {
   "display_name": "ml_finalproject",
   "language": "python",
   "name": "python3"
  },
  "language_info": {
   "codemirror_mode": {
    "name": "ipython",
    "version": 3
   },
   "file_extension": ".py",
   "mimetype": "text/x-python",
   "name": "python",
   "nbconvert_exporter": "python",
   "pygments_lexer": "ipython3",
   "version": "3.9.12"
  }
 },
 "nbformat": 4,
 "nbformat_minor": 2
}
