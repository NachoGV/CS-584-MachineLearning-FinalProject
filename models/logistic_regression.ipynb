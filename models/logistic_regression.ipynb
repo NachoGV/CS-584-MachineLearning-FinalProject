{
 "cells": [
  {
   "cell_type": "markdown",
   "metadata": {},
   "source": [
    "# Logistic Regression Model\n",
    "\n",
    "## Imports"
   ]
  },
  {
   "cell_type": "code",
   "execution_count": 1,
   "metadata": {},
   "outputs": [],
   "source": [
    "# Custom\n",
    "import sys\n",
    "sys.path.append('../')\n",
    "from utils.dataset_manager import fit_dataset, get_classes_weights\n",
    "from utils.constant import FEATURES, LABELS, ALL_ATTACKS\n",
    "\n",
    "# General\n",
    "import warnings\n",
    "from joblib import dump\n",
    "\n",
    "# Model and Metrics\n",
    "from sklearn.linear_model import LogisticRegression\n",
    "from sklearn.metrics import accuracy_score, recall_score, precision_score, f1_score, classification_report\n",
    "\n",
    "# Warnings\n",
    "warnings.filterwarnings('ignore')"
   ]
  },
  {
   "cell_type": "markdown",
   "metadata": {},
   "source": [
    "## Dataset\n"
   ]
  },
  {
   "cell_type": "code",
   "execution_count": 2,
   "metadata": {},
   "outputs": [
    {
     "name": "stderr",
     "output_type": "stream",
     "text": [
      "100%|██████████| 2/2 [00:03<00:00,  1.58s/it]\n",
      "100%|██████████| 1/1 [00:02<00:00,  2.09s/it]\n"
     ]
    },
    {
     "name": "stdout",
     "output_type": "stream",
     "text": [
      "Training Population: 457492\n",
      "Testing Population: 275258\n"
     ]
    }
   ],
   "source": [
    "n_files = 2\n",
    "\n",
    "df_train, df_test = fit_dataset(n_files, ALL_ATTACKS)\n",
    "\n",
    "X_train, y_train = df_train[FEATURES], df_train[LABELS]\n",
    "\n",
    "# Prints\n",
    "print('Training Population: {}'.format(len(df_train)))\n",
    "print('Testing Population: {}'.format(len(df_test)))"
   ]
  },
  {
   "cell_type": "markdown",
   "metadata": {},
   "source": [
    "# Model"
   ]
  },
  {
   "cell_type": "code",
   "execution_count": 3,
   "metadata": {},
   "outputs": [
    {
     "data": {
      "text/html": [
       "<style>#sk-container-id-1 {color: black;background-color: white;}#sk-container-id-1 pre{padding: 0;}#sk-container-id-1 div.sk-toggleable {background-color: white;}#sk-container-id-1 label.sk-toggleable__label {cursor: pointer;display: block;width: 100%;margin-bottom: 0;padding: 0.3em;box-sizing: border-box;text-align: center;}#sk-container-id-1 label.sk-toggleable__label-arrow:before {content: \"▸\";float: left;margin-right: 0.25em;color: #696969;}#sk-container-id-1 label.sk-toggleable__label-arrow:hover:before {color: black;}#sk-container-id-1 div.sk-estimator:hover label.sk-toggleable__label-arrow:before {color: black;}#sk-container-id-1 div.sk-toggleable__content {max-height: 0;max-width: 0;overflow: hidden;text-align: left;background-color: #f0f8ff;}#sk-container-id-1 div.sk-toggleable__content pre {margin: 0.2em;color: black;border-radius: 0.25em;background-color: #f0f8ff;}#sk-container-id-1 input.sk-toggleable__control:checked~div.sk-toggleable__content {max-height: 200px;max-width: 100%;overflow: auto;}#sk-container-id-1 input.sk-toggleable__control:checked~label.sk-toggleable__label-arrow:before {content: \"▾\";}#sk-container-id-1 div.sk-estimator input.sk-toggleable__control:checked~label.sk-toggleable__label {background-color: #d4ebff;}#sk-container-id-1 div.sk-label input.sk-toggleable__control:checked~label.sk-toggleable__label {background-color: #d4ebff;}#sk-container-id-1 input.sk-hidden--visually {border: 0;clip: rect(1px 1px 1px 1px);clip: rect(1px, 1px, 1px, 1px);height: 1px;margin: -1px;overflow: hidden;padding: 0;position: absolute;width: 1px;}#sk-container-id-1 div.sk-estimator {font-family: monospace;background-color: #f0f8ff;border: 1px dotted black;border-radius: 0.25em;box-sizing: border-box;margin-bottom: 0.5em;}#sk-container-id-1 div.sk-estimator:hover {background-color: #d4ebff;}#sk-container-id-1 div.sk-parallel-item::after {content: \"\";width: 100%;border-bottom: 1px solid gray;flex-grow: 1;}#sk-container-id-1 div.sk-label:hover label.sk-toggleable__label {background-color: #d4ebff;}#sk-container-id-1 div.sk-serial::before {content: \"\";position: absolute;border-left: 1px solid gray;box-sizing: border-box;top: 0;bottom: 0;left: 50%;z-index: 0;}#sk-container-id-1 div.sk-serial {display: flex;flex-direction: column;align-items: center;background-color: white;padding-right: 0.2em;padding-left: 0.2em;position: relative;}#sk-container-id-1 div.sk-item {position: relative;z-index: 1;}#sk-container-id-1 div.sk-parallel {display: flex;align-items: stretch;justify-content: center;background-color: white;position: relative;}#sk-container-id-1 div.sk-item::before, #sk-container-id-1 div.sk-parallel-item::before {content: \"\";position: absolute;border-left: 1px solid gray;box-sizing: border-box;top: 0;bottom: 0;left: 50%;z-index: -1;}#sk-container-id-1 div.sk-parallel-item {display: flex;flex-direction: column;z-index: 1;position: relative;background-color: white;}#sk-container-id-1 div.sk-parallel-item:first-child::after {align-self: flex-end;width: 50%;}#sk-container-id-1 div.sk-parallel-item:last-child::after {align-self: flex-start;width: 50%;}#sk-container-id-1 div.sk-parallel-item:only-child::after {width: 0;}#sk-container-id-1 div.sk-dashed-wrapped {border: 1px dashed gray;margin: 0 0.4em 0.5em 0.4em;box-sizing: border-box;padding-bottom: 0.4em;background-color: white;}#sk-container-id-1 div.sk-label label {font-family: monospace;font-weight: bold;display: inline-block;line-height: 1.2em;}#sk-container-id-1 div.sk-label-container {text-align: center;}#sk-container-id-1 div.sk-container {/* jupyter's `normalize.less` sets `[hidden] { display: none; }` but bootstrap.min.css set `[hidden] { display: none !important; }` so we also need the `!important` here to be able to override the default hidden behavior on the sphinx rendered scikit-learn.org. See: https://github.com/scikit-learn/scikit-learn/issues/21755 */display: inline-block !important;position: relative;}#sk-container-id-1 div.sk-text-repr-fallback {display: none;}</style><div id=\"sk-container-id-1\" class=\"sk-top-container\"><div class=\"sk-text-repr-fallback\"><pre>LogisticRegression(class_weight={0: 0.3389246381406899, 1: 0.33155870829715717,\n",
       "                                 2: 0.3366099729530077, 3: 0.25402871601924765,\n",
       "                                 4: 0.30502679615586176, 5: 0.19199587715742092,\n",
       "                                 6: 0.3845899065030877, 7: 4.657544845560238,\n",
       "                                 8: 4.67859772559928, 9: 2.9841754399697336,\n",
       "                                 10: 65.31867504283267, 11: 45.45826709062003,\n",
       "                                 12: 0.4145684154057223, 13: 0.6868981090828286,\n",
       "                                 14: 0.5184021828796244, 15: 17.681533585839066,\n",
       "                                 16: 1.3809161595672752, 17: 1.8272198613285617,\n",
       "                                 18: 1.5002393866455044, 19: 840.9779411764706,\n",
       "                                 20: 14.284126389409266, 21: 16.23117859930462,\n",
       "                                 22: 38.117980336610565, 23: 9.974534513583047,\n",
       "                                 24: 7.680163846360462, 25: 4.4174809779460045,\n",
       "                                 26: 1.2458932461873637, 27: 224.26078431372548,\n",
       "                                 28: 336.3911764705882, 29: 395.75432525951555, ...})</pre><b>In a Jupyter environment, please rerun this cell to show the HTML representation or trust the notebook. <br />On GitHub, the HTML representation is unable to render, please try loading this page with nbviewer.org.</b></div><div class=\"sk-container\" hidden><div class=\"sk-item\"><div class=\"sk-estimator sk-toggleable\"><input class=\"sk-toggleable__control sk-hidden--visually\" id=\"sk-estimator-id-1\" type=\"checkbox\" checked><label for=\"sk-estimator-id-1\" class=\"sk-toggleable__label sk-toggleable__label-arrow\">LogisticRegression</label><div class=\"sk-toggleable__content\"><pre>LogisticRegression(class_weight={0: 0.3389246381406899, 1: 0.33155870829715717,\n",
       "                                 2: 0.3366099729530077, 3: 0.25402871601924765,\n",
       "                                 4: 0.30502679615586176, 5: 0.19199587715742092,\n",
       "                                 6: 0.3845899065030877, 7: 4.657544845560238,\n",
       "                                 8: 4.67859772559928, 9: 2.9841754399697336,\n",
       "                                 10: 65.31867504283267, 11: 45.45826709062003,\n",
       "                                 12: 0.4145684154057223, 13: 0.6868981090828286,\n",
       "                                 14: 0.5184021828796244, 15: 17.681533585839066,\n",
       "                                 16: 1.3809161595672752, 17: 1.8272198613285617,\n",
       "                                 18: 1.5002393866455044, 19: 840.9779411764706,\n",
       "                                 20: 14.284126389409266, 21: 16.23117859930462,\n",
       "                                 22: 38.117980336610565, 23: 9.974534513583047,\n",
       "                                 24: 7.680163846360462, 25: 4.4174809779460045,\n",
       "                                 26: 1.2458932461873637, 27: 224.26078431372548,\n",
       "                                 28: 336.3911764705882, 29: 395.75432525951555, ...})</pre></div></div></div></div></div>"
      ],
      "text/plain": [
       "LogisticRegression(class_weight={0: 0.3389246381406899, 1: 0.33155870829715717,\n",
       "                                 2: 0.3366099729530077, 3: 0.25402871601924765,\n",
       "                                 4: 0.30502679615586176, 5: 0.19199587715742092,\n",
       "                                 6: 0.3845899065030877, 7: 4.657544845560238,\n",
       "                                 8: 4.67859772559928, 9: 2.9841754399697336,\n",
       "                                 10: 65.31867504283267, 11: 45.45826709062003,\n",
       "                                 12: 0.4145684154057223, 13: 0.6868981090828286,\n",
       "                                 14: 0.5184021828796244, 15: 17.681533585839066,\n",
       "                                 16: 1.3809161595672752, 17: 1.8272198613285617,\n",
       "                                 18: 1.5002393866455044, 19: 840.9779411764706,\n",
       "                                 20: 14.284126389409266, 21: 16.23117859930462,\n",
       "                                 22: 38.117980336610565, 23: 9.974534513583047,\n",
       "                                 24: 7.680163846360462, 25: 4.4174809779460045,\n",
       "                                 26: 1.2458932461873637, 27: 224.26078431372548,\n",
       "                                 28: 336.3911764705882, 29: 395.75432525951555, ...})"
      ]
     },
     "execution_count": 3,
     "metadata": {},
     "output_type": "execute_result"
    }
   ],
   "source": [
    "# Model\n",
    "log_reg_model = LogisticRegression(class_weight=get_classes_weights(df_train))\n",
    "\n",
    "# Train\n",
    "log_reg_model.fit(X_train, y_train)"
   ]
  },
  {
   "cell_type": "code",
   "execution_count": 4,
   "metadata": {},
   "outputs": [
    {
     "data": {
      "text/plain": [
       "['../outputs/log_reg_model_2.joblib']"
      ]
     },
     "execution_count": 4,
     "metadata": {},
     "output_type": "execute_result"
    }
   ],
   "source": [
    "# Save Model\n",
    "name = f\"../outputs/log_reg_model_{n_files}.joblib\"\n",
    "dump(log_reg_model, name)"
   ]
  },
  {
   "cell_type": "markdown",
   "metadata": {},
   "source": [
    "# Evaluation"
   ]
  },
  {
   "cell_type": "code",
   "execution_count": 8,
   "metadata": {},
   "outputs": [
    {
     "name": "stdout",
     "output_type": "stream",
     "text": [
      "Classification Report: \n",
      "              precision    recall  f1-score   support\n",
      "\n",
      "           0       1.00      1.00      1.00     23823\n",
      "           1       1.00      0.98      0.99     23890\n",
      "           2       0.66      0.93      0.77     24163\n",
      "           3       0.72      0.90      0.80     31743\n",
      "           4       0.65      0.79      0.71     26517\n",
      "           5       1.00      1.00      1.00     42340\n",
      "           6       0.77      0.63      0.69     21441\n",
      "           7       0.91      0.98      0.94      1635\n",
      "           8       0.92      0.98      0.95      1692\n",
      "           9       0.97      0.97      0.97      2685\n",
      "          10       0.15      0.51      0.23       131\n",
      "          11       0.26      0.69      0.37       146\n",
      "          12       0.74      0.44      0.55     19602\n",
      "          13       0.47      0.21      0.29     12006\n",
      "          14       0.43      0.27      0.33     15938\n",
      "          15       0.62      0.76      0.68       454\n",
      "          16       0.59      0.65      0.62      5703\n",
      "          17       0.49      0.41      0.45      4509\n",
      "          18       0.99      0.99      0.99      5244\n",
      "          19       0.00      0.10      0.00        10\n",
      "          20       0.13      0.06      0.08       575\n",
      "          21       0.06      0.06      0.06       482\n",
      "          22       0.17      0.56      0.26       207\n",
      "          23       0.64      0.53      0.58       816\n",
      "          24       0.27      0.22      0.24      1070\n",
      "          25       0.70      0.50      0.59      1835\n",
      "          26       0.90      0.56      0.69      6387\n",
      "          27       0.01      0.22      0.02        37\n",
      "          28       0.00      0.08      0.00        13\n",
      "          29       0.01      0.27      0.02        15\n",
      "          30       0.00      0.00      0.00         3\n",
      "          31       0.01      0.14      0.02        29\n",
      "          32       0.03      0.24      0.05        25\n",
      "          33       0.10      0.24      0.14        92\n",
      "\n",
      "    accuracy                           0.77    275258\n",
      "   macro avg       0.48      0.53      0.47    275258\n",
      "weighted avg       0.78      0.77      0.76    275258\n",
      "\n"
     ]
    }
   ],
   "source": [
    "X_test , y_test = df_test[FEATURES], df_test[LABELS]\n",
    "\n",
    "# Predict\n",
    "y_pred = log_reg_model.predict(X_test)\n",
    "\n",
    "# Evaluate\n",
    "print('Classification Report: \\n{}'.format(classification_report(y_test, y_pred)))"
   ]
  }
 ],
 "metadata": {
  "kernelspec": {
   "display_name": "ml_finalproject",
   "language": "python",
   "name": "python3"
  },
  "language_info": {
   "codemirror_mode": {
    "name": "ipython",
    "version": 3
   },
   "file_extension": ".py",
   "mimetype": "text/x-python",
   "name": "python",
   "nbconvert_exporter": "python",
   "pygments_lexer": "ipython3",
   "version": "3.10.12"
  }
 },
 "nbformat": 4,
 "nbformat_minor": 2
}
