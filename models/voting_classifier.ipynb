{
 "cells": [
  {
   "cell_type": "code",
   "execution_count": 3,
   "metadata": {},
   "outputs": [],
   "source": [
    "# Custom\n",
    "import sys\n",
    "sys.path.append('../')\n",
    "from utils.dataset_manager import fit_dataset, get_classes_weights\n",
    "from utils.constant import FEATURES, LABELS, ALL_ATTACKS \n",
    "\n",
    "# General\n",
    "import warnings\n",
    "import numpy as np\n",
    "from joblib import dump\n",
    "\n",
    "# Model and Metrics\n",
    "import xgboost as xgb\n",
    "from sklearn.linear_model import LogisticRegression\n",
    "from sklearn.ensemble import RandomForestClassifier, VotingClassifier\n",
    "from sklearn.metrics import classification_report\n",
    "\n",
    "# Warnings\n",
    "warnings.filterwarnings('ignore')"
   ]
  },
  {
   "cell_type": "markdown",
   "metadata": {},
   "source": [
    "# Dataset"
   ]
  },
  {
   "cell_type": "code",
   "execution_count": 4,
   "metadata": {},
   "outputs": [
    {
     "name": "stderr",
     "output_type": "stream",
     "text": [
      "100%|██████████| 20/20 [00:39<00:00,  1.97s/it]\n",
      "100%|██████████| 6/6 [00:07<00:00,  1.32s/it]\n"
     ]
    },
    {
     "name": "stdout",
     "output_type": "stream",
     "text": [
      "Training Population: 4723822\n",
      "Testing Population: 1648176\n"
     ]
    }
   ],
   "source": [
    "n_files = 20\n",
    "\n",
    "df_train, df_test = fit_dataset(n_files, ALL_ATTACKS)\n",
    "\n",
    "X_train, y_train = df_train[FEATURES], df_train[LABELS]\n",
    "\n",
    "# Prints\n",
    "print('Training Population: {}'.format(len(df_train)))\n",
    "print('Testing Population: {}'.format(len(df_test)))"
   ]
  },
  {
   "cell_type": "markdown",
   "metadata": {},
   "source": [
    "# Model"
   ]
  },
  {
   "cell_type": "code",
   "execution_count": 5,
   "metadata": {},
   "outputs": [
    {
     "data": {
      "text/html": [
       "<style>#sk-container-id-1 {color: black;}#sk-container-id-1 pre{padding: 0;}#sk-container-id-1 div.sk-toggleable {background-color: white;}#sk-container-id-1 label.sk-toggleable__label {cursor: pointer;display: block;width: 100%;margin-bottom: 0;padding: 0.3em;box-sizing: border-box;text-align: center;}#sk-container-id-1 label.sk-toggleable__label-arrow:before {content: \"▸\";float: left;margin-right: 0.25em;color: #696969;}#sk-container-id-1 label.sk-toggleable__label-arrow:hover:before {color: black;}#sk-container-id-1 div.sk-estimator:hover label.sk-toggleable__label-arrow:before {color: black;}#sk-container-id-1 div.sk-toggleable__content {max-height: 0;max-width: 0;overflow: hidden;text-align: left;background-color: #f0f8ff;}#sk-container-id-1 div.sk-toggleable__content pre {margin: 0.2em;color: black;border-radius: 0.25em;background-color: #f0f8ff;}#sk-container-id-1 input.sk-toggleable__control:checked~div.sk-toggleable__content {max-height: 200px;max-width: 100%;overflow: auto;}#sk-container-id-1 input.sk-toggleable__control:checked~label.sk-toggleable__label-arrow:before {content: \"▾\";}#sk-container-id-1 div.sk-estimator input.sk-toggleable__control:checked~label.sk-toggleable__label {background-color: #d4ebff;}#sk-container-id-1 div.sk-label input.sk-toggleable__control:checked~label.sk-toggleable__label {background-color: #d4ebff;}#sk-container-id-1 input.sk-hidden--visually {border: 0;clip: rect(1px 1px 1px 1px);clip: rect(1px, 1px, 1px, 1px);height: 1px;margin: -1px;overflow: hidden;padding: 0;position: absolute;width: 1px;}#sk-container-id-1 div.sk-estimator {font-family: monospace;background-color: #f0f8ff;border: 1px dotted black;border-radius: 0.25em;box-sizing: border-box;margin-bottom: 0.5em;}#sk-container-id-1 div.sk-estimator:hover {background-color: #d4ebff;}#sk-container-id-1 div.sk-parallel-item::after {content: \"\";width: 100%;border-bottom: 1px solid gray;flex-grow: 1;}#sk-container-id-1 div.sk-label:hover label.sk-toggleable__label {background-color: #d4ebff;}#sk-container-id-1 div.sk-serial::before {content: \"\";position: absolute;border-left: 1px solid gray;box-sizing: border-box;top: 0;bottom: 0;left: 50%;z-index: 0;}#sk-container-id-1 div.sk-serial {display: flex;flex-direction: column;align-items: center;background-color: white;padding-right: 0.2em;padding-left: 0.2em;position: relative;}#sk-container-id-1 div.sk-item {position: relative;z-index: 1;}#sk-container-id-1 div.sk-parallel {display: flex;align-items: stretch;justify-content: center;background-color: white;position: relative;}#sk-container-id-1 div.sk-item::before, #sk-container-id-1 div.sk-parallel-item::before {content: \"\";position: absolute;border-left: 1px solid gray;box-sizing: border-box;top: 0;bottom: 0;left: 50%;z-index: -1;}#sk-container-id-1 div.sk-parallel-item {display: flex;flex-direction: column;z-index: 1;position: relative;background-color: white;}#sk-container-id-1 div.sk-parallel-item:first-child::after {align-self: flex-end;width: 50%;}#sk-container-id-1 div.sk-parallel-item:last-child::after {align-self: flex-start;width: 50%;}#sk-container-id-1 div.sk-parallel-item:only-child::after {width: 0;}#sk-container-id-1 div.sk-dashed-wrapped {border: 1px dashed gray;margin: 0 0.4em 0.5em 0.4em;box-sizing: border-box;padding-bottom: 0.4em;background-color: white;}#sk-container-id-1 div.sk-label label {font-family: monospace;font-weight: bold;display: inline-block;line-height: 1.2em;}#sk-container-id-1 div.sk-label-container {text-align: center;}#sk-container-id-1 div.sk-container {/* jupyter's `normalize.less` sets `[hidden] { display: none; }` but bootstrap.min.css set `[hidden] { display: none !important; }` so we also need the `!important` here to be able to override the default hidden behavior on the sphinx rendered scikit-learn.org. See: https://github.com/scikit-learn/scikit-learn/issues/21755 */display: inline-block !important;position: relative;}#sk-container-id-1 div.sk-text-repr-fallback {display: none;}</style><div id=\"sk-container-id-1\" class=\"sk-top-container\"><div class=\"sk-text-repr-fallback\"><pre>VotingClassifier(estimators=[(&#x27;xgb&#x27;,\n",
       "                              XGBClassifier(base_score=None, booster=None,\n",
       "                                            callbacks=None,\n",
       "                                            colsample_bylevel=None,\n",
       "                                            colsample_bynode=None,\n",
       "                                            colsample_bytree=None, device=None,\n",
       "                                            early_stopping_rounds=None,\n",
       "                                            enable_categorical=False,\n",
       "                                            eval_metric=None,\n",
       "                                            feature_types=None, gamma=None,\n",
       "                                            grow_policy=None,\n",
       "                                            importance_type=None,\n",
       "                                            interaction_constraints=None,\n",
       "                                            learning_ra...\n",
       "                                                               14: 0.5141034422938497,\n",
       "                                                               15: 19.021897751433542,\n",
       "                                                               16: 1.3943791768011902,\n",
       "                                                               17: 1.8195811878106578,\n",
       "                                                               18: 1.5384336305666104,\n",
       "                                                               19: 705.2585846521349,\n",
       "                                                               20: 13.854800675754944,\n",
       "                                                               21: 16.857066388797694,\n",
       "                                                               22: 36.523643842395,\n",
       "                                                               23: 10.22791086399224,\n",
       "                                                               24: 7.605010738216136,\n",
       "                                                               25: 4.456646068210764,\n",
       "                                                               26: 1.2493340512955056,\n",
       "                                                               27: 246.34032123487694,\n",
       "                                                               28: 387.00819269211866,\n",
       "                                                               29: 370.4958431372549, ...}))],\n",
       "                 voting=&#x27;soft&#x27;)</pre><b>In a Jupyter environment, please rerun this cell to show the HTML representation or trust the notebook. <br />On GitHub, the HTML representation is unable to render, please try loading this page with nbviewer.org.</b></div><div class=\"sk-container\" hidden><div class=\"sk-item sk-dashed-wrapped\"><div class=\"sk-label-container\"><div class=\"sk-label sk-toggleable\"><input class=\"sk-toggleable__control sk-hidden--visually\" id=\"sk-estimator-id-1\" type=\"checkbox\" ><label for=\"sk-estimator-id-1\" class=\"sk-toggleable__label sk-toggleable__label-arrow\">VotingClassifier</label><div class=\"sk-toggleable__content\"><pre>VotingClassifier(estimators=[(&#x27;xgb&#x27;,\n",
       "                              XGBClassifier(base_score=None, booster=None,\n",
       "                                            callbacks=None,\n",
       "                                            colsample_bylevel=None,\n",
       "                                            colsample_bynode=None,\n",
       "                                            colsample_bytree=None, device=None,\n",
       "                                            early_stopping_rounds=None,\n",
       "                                            enable_categorical=False,\n",
       "                                            eval_metric=None,\n",
       "                                            feature_types=None, gamma=None,\n",
       "                                            grow_policy=None,\n",
       "                                            importance_type=None,\n",
       "                                            interaction_constraints=None,\n",
       "                                            learning_ra...\n",
       "                                                               14: 0.5141034422938497,\n",
       "                                                               15: 19.021897751433542,\n",
       "                                                               16: 1.3943791768011902,\n",
       "                                                               17: 1.8195811878106578,\n",
       "                                                               18: 1.5384336305666104,\n",
       "                                                               19: 705.2585846521349,\n",
       "                                                               20: 13.854800675754944,\n",
       "                                                               21: 16.857066388797694,\n",
       "                                                               22: 36.523643842395,\n",
       "                                                               23: 10.22791086399224,\n",
       "                                                               24: 7.605010738216136,\n",
       "                                                               25: 4.456646068210764,\n",
       "                                                               26: 1.2493340512955056,\n",
       "                                                               27: 246.34032123487694,\n",
       "                                                               28: 387.00819269211866,\n",
       "                                                               29: 370.4958431372549, ...}))],\n",
       "                 voting=&#x27;soft&#x27;)</pre></div></div></div><div class=\"sk-parallel\"><div class=\"sk-parallel-item\"><div class=\"sk-item\"><div class=\"sk-label-container\"><div class=\"sk-label sk-toggleable\"><label>xgb</label></div></div><div class=\"sk-serial\"><div class=\"sk-item\"><div class=\"sk-estimator sk-toggleable\"><input class=\"sk-toggleable__control sk-hidden--visually\" id=\"sk-estimator-id-2\" type=\"checkbox\" ><label for=\"sk-estimator-id-2\" class=\"sk-toggleable__label sk-toggleable__label-arrow\">XGBClassifier</label><div class=\"sk-toggleable__content\"><pre>XGBClassifier(base_score=None, booster=None, callbacks=None,\n",
       "              colsample_bylevel=None, colsample_bynode=None,\n",
       "              colsample_bytree=None, device=None, early_stopping_rounds=None,\n",
       "              enable_categorical=False, eval_metric=None, feature_types=None,\n",
       "              gamma=None, grow_policy=None, importance_type=None,\n",
       "              interaction_constraints=None, learning_rate=0.1, max_bin=None,\n",
       "              max_cat_threshold=None, max_cat_to_onehot=None,\n",
       "              max_delta_step=None, max_depth=3, max_leaves=None,\n",
       "              min_child_weight=None, missing=nan, monotone_constraints=None,\n",
       "              multi_strategy=None, n_estimators=100, n_jobs=None,\n",
       "              num_parallel_tree=None, random_state=None, ...)</pre></div></div></div></div></div></div><div class=\"sk-parallel-item\"><div class=\"sk-item\"><div class=\"sk-label-container\"><div class=\"sk-label sk-toggleable\"><label>rf</label></div></div><div class=\"sk-serial\"><div class=\"sk-item\"><div class=\"sk-estimator sk-toggleable\"><input class=\"sk-toggleable__control sk-hidden--visually\" id=\"sk-estimator-id-3\" type=\"checkbox\" ><label for=\"sk-estimator-id-3\" class=\"sk-toggleable__label sk-toggleable__label-arrow\">RandomForestClassifier</label><div class=\"sk-toggleable__content\"><pre>RandomForestClassifier(class_weight={0: 0.33980052871041416,\n",
       "                                     1: 0.3350857664616731,\n",
       "                                     2: 0.3376870680995508,\n",
       "                                     3: 0.2537652031175832,\n",
       "                                     4: 0.30485322158230466,\n",
       "                                     5: 0.19060258348054077,\n",
       "                                     6: 0.38241600495572825,\n",
       "                                     7: 4.799832141797506, 8: 4.739899739917801,\n",
       "                                     9: 3.0395751641136446,\n",
       "                                     10: 57.865864713232234,\n",
       "                                     11: 48.00827269401195,\n",
       "                                     12: 0.41349367175033286,\n",
       "                                     13: 0.681025151592915,\n",
       "                                     14: 0.5141034422938497,\n",
       "                                     15: 19.021897751433542,\n",
       "                                     16: 1.3943791768011902,\n",
       "                                     17: 1.8195811878106578,\n",
       "                                     18: 1.5384336305666104,\n",
       "                                     19: 705.2585846521349,\n",
       "                                     20: 13.854800675754944,\n",
       "                                     21: 16.857066388797694,\n",
       "                                     22: 36.523643842395, 23: 10.22791086399224,\n",
       "                                     24: 7.605010738216136,\n",
       "                                     25: 4.456646068210764,\n",
       "                                     26: 1.2493340512955056,\n",
       "                                     27: 246.34032123487694,\n",
       "                                     28: 387.00819269211866,\n",
       "                                     29: 370.4958431372549, ...})</pre></div></div></div></div></div></div><div class=\"sk-parallel-item\"><div class=\"sk-item\"><div class=\"sk-label-container\"><div class=\"sk-label sk-toggleable\"><label>logistic</label></div></div><div class=\"sk-serial\"><div class=\"sk-item\"><div class=\"sk-estimator sk-toggleable\"><input class=\"sk-toggleable__control sk-hidden--visually\" id=\"sk-estimator-id-4\" type=\"checkbox\" ><label for=\"sk-estimator-id-4\" class=\"sk-toggleable__label sk-toggleable__label-arrow\">LogisticRegression</label><div class=\"sk-toggleable__content\"><pre>LogisticRegression(class_weight={0: 0.33980052871041416, 1: 0.3350857664616731,\n",
       "                                 2: 0.3376870680995508, 3: 0.2537652031175832,\n",
       "                                 4: 0.30485322158230466, 5: 0.19060258348054077,\n",
       "                                 6: 0.38241600495572825, 7: 4.799832141797506,\n",
       "                                 8: 4.739899739917801, 9: 3.0395751641136446,\n",
       "                                 10: 57.865864713232234, 11: 48.00827269401195,\n",
       "                                 12: 0.41349367175033286, 13: 0.681025151592915,\n",
       "                                 14: 0.5141034422938497, 15: 19.021897751433542,\n",
       "                                 16: 1.3943791768011902, 17: 1.8195811878106578,\n",
       "                                 18: 1.5384336305666104, 19: 705.2585846521349,\n",
       "                                 20: 13.854800675754944, 21: 16.857066388797694,\n",
       "                                 22: 36.523643842395, 23: 10.22791086399224,\n",
       "                                 24: 7.605010738216136, 25: 4.456646068210764,\n",
       "                                 26: 1.2493340512955056, 27: 246.34032123487694,\n",
       "                                 28: 387.00819269211866, 29: 370.4958431372549, ...})</pre></div></div></div></div></div></div></div></div></div></div>"
      ],
      "text/plain": [
       "VotingClassifier(estimators=[('xgb',\n",
       "                              XGBClassifier(base_score=None, booster=None,\n",
       "                                            callbacks=None,\n",
       "                                            colsample_bylevel=None,\n",
       "                                            colsample_bynode=None,\n",
       "                                            colsample_bytree=None, device=None,\n",
       "                                            early_stopping_rounds=None,\n",
       "                                            enable_categorical=False,\n",
       "                                            eval_metric=None,\n",
       "                                            feature_types=None, gamma=None,\n",
       "                                            grow_policy=None,\n",
       "                                            importance_type=None,\n",
       "                                            interaction_constraints=None,\n",
       "                                            learning_ra...\n",
       "                                                               14: 0.5141034422938497,\n",
       "                                                               15: 19.021897751433542,\n",
       "                                                               16: 1.3943791768011902,\n",
       "                                                               17: 1.8195811878106578,\n",
       "                                                               18: 1.5384336305666104,\n",
       "                                                               19: 705.2585846521349,\n",
       "                                                               20: 13.854800675754944,\n",
       "                                                               21: 16.857066388797694,\n",
       "                                                               22: 36.523643842395,\n",
       "                                                               23: 10.22791086399224,\n",
       "                                                               24: 7.605010738216136,\n",
       "                                                               25: 4.456646068210764,\n",
       "                                                               26: 1.2493340512955056,\n",
       "                                                               27: 246.34032123487694,\n",
       "                                                               28: 387.00819269211866,\n",
       "                                                               29: 370.4958431372549, ...}))],\n",
       "                 voting='soft')"
      ]
     },
     "execution_count": 5,
     "metadata": {},
     "output_type": "execute_result"
    }
   ],
   "source": [
    "# Classifiers\n",
    "xgb_model = xgb.XGBClassifier(n_estimators=100, max_depth=3, learning_rate=0.1)\n",
    "rf_model = RandomForestClassifier(class_weight=get_classes_weights(df_train))\n",
    "log_reg_model = LogisticRegression(class_weight=get_classes_weights(df_train))\n",
    "\n",
    "# Create an ensemble using VotingClassifier\n",
    "ensemble_model = VotingClassifier(estimators=[\n",
    "    ('xgb', xgb_model),\n",
    "    ('rf', rf_model),\n",
    "    ('logistic', log_reg_model)],\n",
    "    voting='soft')\n",
    "\n",
    "# Fit the ensemble model on the training data\n",
    "ensemble_model.fit(X_train, y_train)"
   ]
  },
  {
   "cell_type": "code",
   "execution_count": 6,
   "metadata": {},
   "outputs": [
    {
     "data": {
      "text/plain": [
       "['../outputs/voting_classifier_20.joblib']"
      ]
     },
     "execution_count": 6,
     "metadata": {},
     "output_type": "execute_result"
    }
   ],
   "source": [
    "# Save de Model\n",
    "name = f\"../outputs/voting_classifier_{n_files}.joblib\"\n",
    "dump(ensemble_model, name)"
   ]
  },
  {
   "cell_type": "markdown",
   "metadata": {},
   "source": [
    "# Evaluation"
   ]
  },
  {
   "cell_type": "code",
   "execution_count": 7,
   "metadata": {},
   "outputs": [
    {
     "name": "stdout",
     "output_type": "stream",
     "text": [
      "Classification Report:\n",
      "              precision    recall  f1-score   support\n",
      "\n",
      "           0       1.00      1.00      1.00    142361\n",
      "           1       1.00      1.00      1.00    144128\n",
      "           2       1.00      1.00      1.00    143521\n",
      "           3       1.00      1.00      1.00    191686\n",
      "           4       1.00      1.00      1.00    159101\n",
      "           5       1.00      1.00      1.00    254077\n",
      "           6       1.00      1.00      1.00    126849\n",
      "           7       1.00      1.00      1.00     10061\n",
      "           8       1.00      1.00      1.00     10244\n",
      "           9       1.00      1.00      1.00     16043\n",
      "          10       0.94      0.98      0.96       844\n",
      "          11       0.97      0.95      0.96      1050\n",
      "          12       1.00      1.00      1.00    116827\n",
      "          13       1.00      1.00      1.00     71688\n",
      "          14       1.00      1.00      1.00     94194\n",
      "          15       0.99      1.00      0.99      2474\n",
      "          16       1.00      1.00      1.00     35144\n",
      "          17       1.00      1.00      1.00     26641\n",
      "          18       1.00      1.00      1.00     31378\n",
      "          19       0.18      0.10      0.12        84\n",
      "          20       0.80      0.42      0.55      3415\n",
      "          21       0.77      0.55      0.64      2966\n",
      "          22       0.98      0.99      0.99      1328\n",
      "          23       0.80      0.79      0.79      4732\n",
      "          24       0.76      0.66      0.71      6290\n",
      "          25       0.91      0.82      0.86     11020\n",
      "          26       0.86      0.98      0.92     38709\n",
      "          27       0.89      0.08      0.15       198\n",
      "          28       0.75      0.05      0.09       124\n",
      "          29       1.00      0.31      0.47       132\n",
      "          30       0.88      0.29      0.44        48\n",
      "          31       0.61      0.08      0.14       175\n",
      "          32       0.96      0.26      0.41       206\n",
      "          33       0.93      0.19      0.31       438\n",
      "\n",
      "    accuracy                           0.99   1648176\n",
      "   macro avg       0.91      0.75      0.78   1648176\n",
      "weighted avg       0.99      0.99      0.99   1648176\n",
      "\n"
     ]
    }
   ],
   "source": [
    "X_test, y_test = df_test[FEATURES], df_test[LABELS]\n",
    "\n",
    "# Predict\n",
    "y_pred = ensemble_model.predict(X_test)\n",
    "\n",
    "# Evaluate\n",
    "print(\"Classification Report:\\n{}\".format(classification_report(y_test, y_pred)))"
   ]
  }
 ],
 "metadata": {
  "kernelspec": {
   "display_name": "Python 3",
   "language": "python",
   "name": "python3"
  },
  "language_info": {
   "codemirror_mode": {
    "name": "ipython",
    "version": 3
   },
   "file_extension": ".py",
   "mimetype": "text/x-python",
   "name": "python",
   "nbconvert_exporter": "python",
   "pygments_lexer": "ipython3",
   "version": "3.9.12"
  }
 },
 "nbformat": 4,
 "nbformat_minor": 2
}
