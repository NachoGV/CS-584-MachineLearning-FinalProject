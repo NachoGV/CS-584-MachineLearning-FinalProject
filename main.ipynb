{
 "cells": [
  {
   "cell_type": "markdown",
   "metadata": {},
   "source": [
    "# Model Comparison\n",
    "\n",
    "## Imports"
   ]
  },
  {
   "cell_type": "code",
   "execution_count": 1,
   "metadata": {},
   "outputs": [],
   "source": [
    "# Custom\n",
    "from utils.dataset_manager import fit_dataset, get_classes_weights\n",
    "from utils.constant import ALL_ATTACKS, FEATURES, LABELS\n",
    "\n",
    "# Models\n",
    "from xgboost import XGBClassifier\n",
    "from sklearn.model_selection import GridSearchCV\n",
    "from sklearn.linear_model import LogisticRegression\n",
    "from sklearn.ensemble import RandomForestClassifier, VotingClassifier\n",
    "from sklearn.metrics import accuracy_score, recall_score, precision_score, f1_score, classification_report\n",
    "\n",
    "# Other\n",
    "import warnings\n",
    "from tqdm import tqdm\n",
    "from joblib import dump\n",
    "\n",
    "# Ignore warnings\n",
    "warnings.filterwarnings('ignore')"
   ]
  },
  {
   "cell_type": "markdown",
   "metadata": {},
   "source": [
    "## Dataset"
   ]
  },
  {
   "cell_type": "code",
   "execution_count": 2,
   "metadata": {},
   "outputs": [
    {
     "name": "stderr",
     "output_type": "stream",
     "text": [
      "100%|██████████| 1/1 [00:00<00:00,  1.72it/s]\n",
      "100%|██████████| 1/1 [00:00<00:00,  2.03it/s]\n"
     ]
    },
    {
     "name": "stdout",
     "output_type": "stream",
     "text": [
      "Training Population: 238687\n",
      "Testing Population: 218805\n"
     ]
    }
   ],
   "source": [
    "n_files = 1\n",
    "\n",
    "df_train, df_test = fit_dataset(n_files, ALL_ATTACKS, dataset_directory='./data/')\n",
    "\n",
    "X_train, y_train = df_train[FEATURES], df_train[LABELS]\n",
    "X_test, y_test = df_test[FEATURES], df_test[LABELS]\n",
    "\n",
    "# Prints\n",
    "print('Training Population: {}'.format(len(df_train)))\n",
    "print('Testing Population: {}'.format(len(df_test)))"
   ]
  },
  {
   "cell_type": "markdown",
   "metadata": {},
   "source": [
    "## Models"
   ]
  },
  {
   "cell_type": "markdown",
   "metadata": {},
   "source": [
    "Since we have unbalanced data, we have to add their weigth in each model"
   ]
  },
  {
   "cell_type": "code",
   "execution_count": 3,
   "metadata": {},
   "outputs": [],
   "source": [
    "xgb_params = {\n",
    "    \"max_depth\": [3, 4, 5, 7],\n",
    "    \"learning_rate\": [0.1, 0.01, 0.05],\n",
    "    \"gamma\": [0, 0.25, 1],\n",
    "    \"reg_lambda\": [0, 1, 10],\n",
    "    \"scale_pos_weight\": [1, 3, 5],\n",
    "    \"subsample\": [0.8],\n",
    "    \"colsample_bytree\": [0.5],\n",
    "}\n",
    "\n",
    "rf_params = {\n",
    "    \"n_estimators\": [100, 200, 300],\n",
    "    \"max_depth\": [3, 4, 5, 7],\n",
    "    \"min_samples_leaf\": [1, 3, 5],\n",
    "    \"max_features\": [\"sqrt\"],\n",
    "    \"class_weight\": [\"balanced\", get_classes_weights(df_train)],\n",
    "}\n",
    "\n",
    "log_reg_params = {\n",
    "    \"penalty\": [\"l1\", \"l2\"],\n",
    "    \"C\": [0.1, 0.5, 1, 5, 10],\n",
    "    \"class_weight\": [\"balanced\", get_classes_weights(df_train)],\n",
    "}\n",
    "\n",
    "voting_params = {\n",
    "    \"voting\": [\"soft\", \"hard\"],\n",
    "    \"weights\": [[1, 1, 1], [1, 2, 1], [1, 1, 2], [1, 2, 2]],\n",
    "}\n",
    "\n",
    "models = {\n",
    "    'log_reg': (LogisticRegression(class_weight=get_classes_weights(df_train)), log_reg_params),\n",
    "    'xgb': (XGBClassifier(), xgb_params),\n",
    "    'random_forest': (RandomForestClassifier(class_weight=get_classes_weights(df_train)), rf_params),\n",
    "    'voting_classifier': (VotingClassifier(estimators=[\n",
    "        ('xgb', XGBClassifier()),\n",
    "        ('rf', RandomForestClassifier(class_weight=get_classes_weights(df_train))),\n",
    "        ('logistic', LogisticRegression(class_weight=get_classes_weights(df_train)))],\n",
    "        voting='soft'), voting_params)\n",
    "}"
   ]
  },
  {
   "cell_type": "markdown",
   "metadata": {},
   "source": [
    "### Training"
   ]
  },
  {
   "cell_type": "code",
   "execution_count": 4,
   "metadata": {},
   "outputs": [
    {
     "name": "stderr",
     "output_type": "stream",
     "text": [
      "  0%|          | 0/4 [00:00<?, ?it/s]"
     ]
    },
    {
     "name": "stdout",
     "output_type": "stream",
     "text": [
      "Training log_reg\n"
     ]
    },
    {
     "name": "stderr",
     "output_type": "stream",
     "text": [
      " 25%|██▌       | 1/4 [02:21<07:05, 141.88s/it]"
     ]
    },
    {
     "name": "stdout",
     "output_type": "stream",
     "text": [
      "Best params: {'C': 0.5, 'class_weight': 'balanced', 'penalty': 'l2'}\n",
      "Best score: 0.47358156837975135\n",
      "Training xgb\n"
     ]
    },
    {
     "name": "stderr",
     "output_type": "stream",
     "text": [
      " 50%|█████     | 2/4 [4:51:55<5:42:36, 10278.03s/it]"
     ]
    },
    {
     "name": "stdout",
     "output_type": "stream",
     "text": [
      "Best params: {'colsample_bytree': 0.5, 'gamma': 0.25, 'learning_rate': 0.1, 'max_depth': 5, 'reg_lambda': 0, 'scale_pos_weight': 1, 'subsample': 0.8}\n",
      "Best score: 0.7143549109991147\n",
      "Training random_forest\n"
     ]
    },
    {
     "name": "stderr",
     "output_type": "stream",
     "text": [
      " 75%|███████▌  | 3/4 [10:50:38<4:16:52, 15412.88s/it]"
     ]
    },
    {
     "name": "stdout",
     "output_type": "stream",
     "text": [
      "Best params: {'class_weight': 'balanced', 'max_depth': 7, 'max_features': 'sqrt', 'min_samples_leaf': 5, 'n_estimators': 300}\n",
      "Best score: 0.6055219830914593\n",
      "Training voting_classifier\n"
     ]
    },
    {
     "name": "stderr",
     "output_type": "stream",
     "text": [
      "100%|██████████| 4/4 [11:02:34<00:00, 9938.57s/it]   "
     ]
    },
    {
     "name": "stdout",
     "output_type": "stream",
     "text": [
      "Best params: {'voting': 'hard', 'weights': [1, 2, 1]}\n",
      "Best score: 0.7232131477335944\n"
     ]
    },
    {
     "name": "stderr",
     "output_type": "stream",
     "text": [
      "\n"
     ]
    }
   ],
   "source": [
    "best_estimators = {}\n",
    "for model in tqdm(models):\n",
    "    print('Training {}'.format(model))\n",
    "    grid = GridSearchCV(models[model][0], models[model][1], cv=5, scoring='f1_macro', n_jobs=-1)\n",
    "    grid.fit(X_train, y_train)\n",
    "    print('Best params: {}'.format(grid.best_params_))\n",
    "    print('Best score: {}'.format(grid.best_score_))\n",
    "    best_estimators[model] = grid.best_estimator_\n"
   ]
  },
  {
   "cell_type": "code",
   "execution_count": 6,
   "metadata": {},
   "outputs": [
    {
     "data": {
      "text/plain": [
       "['./outputs/best_model_all_attacks.joblib']"
      ]
     },
     "execution_count": 6,
     "metadata": {},
     "output_type": "execute_result"
    }
   ],
   "source": [
    "dump(best_model, './outputs/best_model_all_attacks.joblib')"
   ]
  },
  {
   "cell_type": "markdown",
   "metadata": {},
   "source": [
    "## Evaluation"
   ]
  },
  {
   "cell_type": "code",
   "execution_count": 7,
   "metadata": {},
   "outputs": [
    {
     "name": "stderr",
     "output_type": "stream",
     "text": [
      "  0%|          | 0/4 [00:00<?, ?it/s]"
     ]
    },
    {
     "name": "stdout",
     "output_type": "stream",
     "text": [
      "Model:  log_reg\n",
      "  accuracy_score =  0.7776467630995635\n",
      "  recall_score =  0.476677860611158\n",
      "  precision_score =  0.5428789567644444\n",
      "  f1_score =  0.4703202270343937\n"
     ]
    },
    {
     "name": "stderr",
     "output_type": "stream",
     "text": [
      " 25%|██▌       | 1/4 [00:02<00:06,  2.22s/it]"
     ]
    },
    {
     "name": "stdout",
     "output_type": "stream",
     "text": [
      "  classification_report = \n",
      "               precision    recall  f1-score   support\n",
      "\n",
      "           0       1.00      1.00      1.00     19005\n",
      "           1       0.98      1.00      0.99     19039\n",
      "           2       0.93      0.66      0.77     27103\n",
      "           3       0.88      0.73      0.80     30388\n",
      "           4       0.80      0.65      0.72     25650\n",
      "           5       1.00      1.00      1.00     33472\n",
      "           6       0.62      0.78      0.69     13359\n",
      "           7       0.98      0.84      0.90      1621\n",
      "           8       0.99      0.95      0.97      1438\n",
      "           9       0.97      0.98      0.98      2126\n",
      "          10       0.53      0.11      0.19       466\n",
      "          11       0.66      0.18      0.29       458\n",
      "          12       0.46      0.70      0.56     10318\n",
      "          13       0.20      0.47      0.28      4039\n",
      "          14       0.27      0.44      0.34      7554\n",
      "          15       0.75      0.53      0.62       495\n",
      "          16       0.75      0.64      0.69      5572\n",
      "          17       0.43      0.57      0.49      2693\n",
      "          18       0.99      0.99      0.99      4296\n",
      "          19       0.10      0.00      0.01       210\n",
      "          20       0.05      0.05      0.05       401\n",
      "          21       0.10      0.10      0.10       397\n",
      "          22       0.59      0.16      0.25       525\n",
      "          23       0.47      0.64      0.54       482\n",
      "          24       0.24      0.29      0.26       676\n",
      "          25       0.52      0.69      0.60      1085\n",
      "          26       0.55      0.91      0.68      3142\n",
      "          27       0.33      0.02      0.03       594\n",
      "          28       0.17      0.01      0.02       290\n",
      "          29       0.19      0.01      0.02       277\n",
      "          30       0.20      0.00      0.00       595\n",
      "          31       0.37      0.03      0.06       316\n",
      "          32       0.12      0.01      0.01       420\n",
      "          33       0.26      0.05      0.08       303\n",
      "\n",
      "    accuracy                           0.78    218805\n",
      "   macro avg       0.54      0.48      0.47    218805\n",
      "weighted avg       0.82      0.78      0.79    218805\n",
      "\n",
      "Model:  xgb\n",
      "  accuracy_score =  0.9923265007655218\n",
      "  recall_score =  0.7704998295944793\n",
      "  precision_score =  0.7090892136075401\n",
      "  f1_score =  0.7202584308466153\n"
     ]
    },
    {
     "name": "stderr",
     "output_type": "stream",
     "text": [
      " 50%|█████     | 2/4 [00:05<00:06,  3.04s/it]"
     ]
    },
    {
     "name": "stdout",
     "output_type": "stream",
     "text": [
      "  classification_report = \n",
      "               precision    recall  f1-score   support\n",
      "\n",
      "           0       1.00      1.00      1.00     19031\n",
      "           1       1.00      1.00      1.00     19374\n",
      "           2       1.00      1.00      1.00     19248\n",
      "           3       1.00      1.00      1.00     25356\n",
      "           4       1.00      1.00      1.00     20963\n",
      "           5       1.00      1.00      1.00     33525\n",
      "           6       1.00      1.00      1.00     16788\n",
      "           7       1.00      1.00      1.00      1383\n",
      "           8       0.99      1.00      1.00      1383\n",
      "           9       1.00      1.00      1.00      2133\n",
      "          10       0.98      0.92      0.95       106\n",
      "          11       0.95      0.98      0.97       123\n",
      "          12       1.00      1.00      1.00     15486\n",
      "          13       1.00      1.00      1.00      9312\n",
      "          14       1.00      1.00      1.00     12332\n",
      "          15       0.97      0.98      0.98       344\n",
      "          16       1.00      1.00      1.00      4722\n",
      "          17       1.00      1.00      1.00      3612\n",
      "          18       1.00      1.00      1.00      4308\n",
      "          19       0.00      0.00      0.00         0\n",
      "          20       0.34      0.52      0.41       277\n",
      "          21       0.45      0.62      0.52       291\n",
      "          22       0.97      0.99      0.98       141\n",
      "          23       0.73      0.75      0.74       627\n",
      "          24       0.63      0.71      0.67       738\n",
      "          25       0.80      0.86      0.83      1329\n",
      "          26       0.98      0.87      0.92      5855\n",
      "          27       0.00      0.00      0.00         0\n",
      "          28       0.00      0.00      0.00         0\n",
      "          29       0.00      0.00      0.00         0\n",
      "          30       0.00      0.00      0.00         0\n",
      "          31       0.00      0.00      0.00         2\n",
      "          32       0.08      1.00      0.14         2\n",
      "          33       0.25      1.00      0.39        14\n",
      "\n",
      "    accuracy                           0.99    218805\n",
      "   macro avg       0.71      0.77      0.72    218805\n",
      "weighted avg       0.99      0.99      0.99    218805\n",
      "\n",
      "Model:  random_forest\n",
      "  accuracy_score =  0.9442837229496583\n",
      "  recall_score =  0.605630606299613\n",
      "  precision_score =  0.7182265870046717\n",
      "  f1_score =  0.5972804591593012\n"
     ]
    },
    {
     "name": "stderr",
     "output_type": "stream",
     "text": [
      " 75%|███████▌  | 3/4 [00:32<00:13, 13.70s/it]"
     ]
    },
    {
     "name": "stdout",
     "output_type": "stream",
     "text": [
      "  classification_report = \n",
      "               precision    recall  f1-score   support\n",
      "\n",
      "           0       1.00      1.00      1.00     19017\n",
      "           1       1.00      1.00      1.00     19346\n",
      "           2       0.92      1.00      0.95     17678\n",
      "           3       0.99      1.00      0.99     25088\n",
      "           4       0.98      0.80      0.88     25744\n",
      "           5       1.00      1.00      1.00     33486\n",
      "           6       0.99      0.96      0.98     17343\n",
      "           7       0.98      0.98      0.98      1388\n",
      "           8       0.98      0.94      0.96      1454\n",
      "           9       0.97      1.00      0.99      2078\n",
      "          10       0.74      0.26      0.39       282\n",
      "          11       0.94      0.15      0.25       816\n",
      "          12       0.99      0.98      0.99     15684\n",
      "          13       0.97      0.95      0.96      9513\n",
      "          14       0.57      0.96      0.72      7286\n",
      "          15       0.92      0.51      0.65       633\n",
      "          16       0.99      1.00      1.00      4699\n",
      "          17       0.99      1.00      0.99      3574\n",
      "          18       0.99      0.99      0.99      4335\n",
      "          19       0.10      0.02      0.04        43\n",
      "          20       0.02      0.41      0.04        22\n",
      "          21       0.21      0.51      0.29       162\n",
      "          22       0.87      0.16      0.28       764\n",
      "          23       0.51      0.64      0.57       519\n",
      "          24       0.35      0.45      0.39       653\n",
      "          25       0.53      0.70      0.60      1080\n",
      "          26       0.73      0.85      0.79      4439\n",
      "          27       0.23      0.06      0.09       125\n",
      "          28       0.33      0.01      0.03       443\n",
      "          29       0.25      0.07      0.11        57\n",
      "          30       1.00      0.04      0.08       125\n",
      "          31       0.44      0.03      0.06       375\n",
      "          32       0.50      0.11      0.18       119\n",
      "          33       0.40      0.05      0.09       435\n",
      "\n",
      "    accuracy                           0.94    218805\n",
      "   macro avg       0.72      0.61      0.60    218805\n",
      "weighted avg       0.95      0.94      0.94    218805\n",
      "\n",
      "Model:  voting_classifier\n",
      "  accuracy_score =  0.9905989351248828\n",
      "  recall_score =  0.8722138682304821\n",
      "  precision_score =  0.733824450368318\n",
      "  f1_score =  0.7543743905062444\n"
     ]
    },
    {
     "name": "stderr",
     "output_type": "stream",
     "text": [
      "100%|██████████| 4/4 [00:52<00:00, 13.04s/it]"
     ]
    },
    {
     "name": "stdout",
     "output_type": "stream",
     "text": [
      "  classification_report = \n",
      "               precision    recall  f1-score   support\n",
      "\n",
      "           0       1.00      1.00      1.00     19020\n",
      "           1       1.00      1.00      1.00     19364\n",
      "           2       1.00      1.00      1.00     19263\n",
      "           3       1.00      1.00      1.00     25349\n",
      "           4       1.00      1.00      1.00     20947\n",
      "           5       1.00      1.00      1.00     33500\n",
      "           6       1.00      1.00      1.00     16761\n",
      "           7       0.99      0.99      0.99      1386\n",
      "           8       0.99      0.99      0.99      1389\n",
      "           9       0.99      0.99      0.99      2136\n",
      "          10       0.89      0.86      0.87       104\n",
      "          11       0.89      0.99      0.94       114\n",
      "          12       1.00      1.00      1.00     15484\n",
      "          13       1.00      1.00      1.00      9319\n",
      "          14       1.00      1.00      1.00     12317\n",
      "          15       0.97      0.97      0.97       344\n",
      "          16       1.00      1.00      1.00      4715\n",
      "          17       0.99      0.99      0.99      3599\n",
      "          18       1.00      1.00      1.00      4307\n",
      "          19       0.00      0.00      0.00         0\n",
      "          20       0.26      0.64      0.37       176\n",
      "          21       0.41      0.72      0.52       228\n",
      "          22       0.90      0.84      0.87       154\n",
      "          23       0.73      0.81      0.77       590\n",
      "          24       0.63      0.81      0.71       646\n",
      "          25       0.77      0.88      0.82      1252\n",
      "          26       0.98      0.81      0.89      6316\n",
      "          27       0.03      1.00      0.06         1\n",
      "          28       0.11      1.00      0.20         2\n",
      "          29       0.12      0.67      0.21         3\n",
      "          30       1.00      1.00      1.00         5\n",
      "          31       0.00      0.00      0.00         1\n",
      "          32       0.19      0.71      0.30         7\n",
      "          33       0.11      1.00      0.19         6\n",
      "\n",
      "    accuracy                           0.99    218805\n",
      "   macro avg       0.73      0.87      0.75    218805\n",
      "weighted avg       0.99      0.99      0.99    218805\n",
      "\n"
     ]
    },
    {
     "name": "stderr",
     "output_type": "stream",
     "text": [
      "\n"
     ]
    },
    {
     "data": {
      "text/plain": [
       "['./outputs/best_model_all_attacks.joblib']"
      ]
     },
     "execution_count": 7,
     "metadata": {},
     "output_type": "execute_result"
    }
   ],
   "source": [
    "# Predict\n",
    "best_model = None\n",
    "best_score = 0\n",
    "for model in tqdm(best_estimators):\n",
    "    y_pred = list(best_estimators[model].predict(X_test))\n",
    "\n",
    "    # Evaluate\n",
    "    y_test = list(y_test)\n",
    "    f1score = f1_score(y_pred, y_test, average='macro')\n",
    "    print('Model: ', model)\n",
    "    print('  accuracy_score = ', accuracy_score(y_pred, y_test))\n",
    "    print('  recall_score = ', recall_score(y_pred, y_test, average='macro'))\n",
    "    print('  precision_score = ', precision_score(y_pred, y_test, average='macro'))\n",
    "    print('  f1_score = ', f1score)\n",
    "    print('  classification_report = \\n', classification_report(y_pred, y_test))\n",
    "\n",
    "    if f1score > best_score:\n",
    "        best_score = f1score\n",
    "        best_model = best_estimators[model]\n",
    "\n",
    "dump(best_model, './outputs/best_model_all_attacks.joblib')"
   ]
  }
 ],
 "metadata": {
  "kernelspec": {
   "display_name": "ml_finalproject",
   "language": "python",
   "name": "python3"
  },
  "language_info": {
   "codemirror_mode": {
    "name": "ipython",
    "version": 3
   },
   "file_extension": ".py",
   "mimetype": "text/x-python",
   "name": "python",
   "nbconvert_exporter": "python",
   "pygments_lexer": "ipython3",
   "version": "3.11.4"
  }
 },
 "nbformat": 4,
 "nbformat_minor": 2
}
