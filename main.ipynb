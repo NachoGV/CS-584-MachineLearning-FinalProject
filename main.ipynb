{
 "cells": [
  {
   "cell_type": "markdown",
   "metadata": {},
   "source": [
    "# Model Comparison\n",
    "\n",
    "## Imports"
   ]
  },
  {
   "cell_type": "code",
   "execution_count": 1,
   "metadata": {},
   "outputs": [],
   "source": [
    "# Preprocessing\n",
    "from sklearn.preprocessing import StandardScaler\n",
    "from sklearn.model_selection import GridSearchCV\n",
    "\n",
    "# Models\n",
    "from sklearn.svm import SVC\n",
    "from xgboost import XGBClassifier\n",
    "from sklearn.linear_model import LogisticRegression\n",
    "from sklearn.metrics import accuracy_score, recall_score, precision_score, f1_score\n",
    "\n",
    "# Custom\n",
    "from utils.constant import ATTACKS, FEATURES, LABELS, DATASET_DIRECTORY\n",
    "\n",
    "# Other\n",
    "import os\n",
    "import warnings\n",
    "import pandas as pd\n",
    "from tqdm import tqdm\n",
    "\n",
    "# Ignore warnings\n",
    "warnings.filterwarnings('ignore')"
   ]
  },
  {
   "cell_type": "markdown",
   "metadata": {},
   "source": [
    "## Dataset"
   ]
  },
  {
   "cell_type": "code",
   "execution_count": 2,
   "metadata": {},
   "outputs": [],
   "source": [
    "# File Paths\n",
    "df_sets = [k for k in os.listdir(DATASET_DIRECTORY) if k.endswith('.csv')]\n",
    "df_sets.sort()\n",
    "\n",
    "# Split\n",
    "training_sets = df_sets[:1]\n",
    "test_sets = df_sets[1:2]\n",
    "\n",
    "# Preprocessing Functions\n",
    "scaler = StandardScaler()"
   ]
  },
  {
   "cell_type": "markdown",
   "metadata": {},
   "source": [
    "### Loading and Preprocessing"
   ]
  },
  {
   "cell_type": "code",
   "execution_count": 3,
   "metadata": {},
   "outputs": [
    {
     "name": "stderr",
     "output_type": "stream",
     "text": [
      "100%|██████████| 1/1 [00:00<00:00,  1.31it/s]\n"
     ]
    }
   ],
   "source": [
    "# Create dataframe\n",
    "df = pd.DataFrame()\n",
    "for train_set in tqdm(training_sets):\n",
    "\n",
    "    # Load data into a single dataframe\n",
    "    df_set = pd.read_csv(DATASET_DIRECTORY + train_set)\n",
    "    df = df._append(df_set, ignore_index=True)\n",
    "\n",
    "    # Fit scaler\n",
    "    scaler.fit(df_set[FEATURES])\n",
    "\n",
    "# Clean data\n",
    "df = df.dropna()\n",
    "df = df.drop_duplicates()\n",
    "df = df.reset_index(drop=True)\n",
    "\n",
    "# Scale\n",
    "df[FEATURES] = scaler.transform(df[FEATURES])\n",
    "\n",
    "# Encode labels\n",
    "df[LABELS] = df[LABELS].apply(lambda x: ATTACKS[x])"
   ]
  },
  {
   "cell_type": "markdown",
   "metadata": {},
   "source": [
    "## Models"
   ]
  },
  {
   "cell_type": "code",
   "execution_count": 4,
   "metadata": {},
   "outputs": [],
   "source": [
    "models = {\n",
    "    'log_reg': LogisticRegression(),\n",
    "    'xgb': XGBClassifier(),\n",
    "    'svm': SVC(),\n",
    "}"
   ]
  },
  {
   "cell_type": "markdown",
   "metadata": {},
   "source": [
    "### Training"
   ]
  },
  {
   "cell_type": "code",
   "execution_count": 5,
   "metadata": {},
   "outputs": [
    {
     "name": "stderr",
     "output_type": "stream",
     "text": [
      "100%|██████████| 3/3 [12:50<00:00, 256.85s/it]\n"
     ]
    }
   ],
   "source": [
    "for model in tqdm(models):\n",
    "    models[model].fit(df[FEATURES], df[LABELS])"
   ]
  },
  {
   "cell_type": "markdown",
   "metadata": {},
   "source": [
    "## Evaluation"
   ]
  },
  {
   "cell_type": "code",
   "execution_count": 6,
   "metadata": {},
   "outputs": [
    {
     "name": "stderr",
     "output_type": "stream",
     "text": [
      "  0%|          | 0/3 [00:00<?, ?it/s]"
     ]
    },
    {
     "name": "stdout",
     "output_type": "stream",
     "text": [
      "Model:  log_reg\n",
      "  accuracy_score =  0.8043646168963232\n",
      "  recall_score =  0.5946313957995658\n",
      "  precision_score =  0.4908326519822142\n"
     ]
    },
    {
     "name": "stderr",
     "output_type": "stream",
     "text": [
      " 33%|███▎      | 1/3 [00:00<00:01,  1.16it/s]"
     ]
    },
    {
     "name": "stdout",
     "output_type": "stream",
     "text": [
      "  f1_score =  0.4961079750698912\n",
      "Model:  xgb\n",
      "  accuracy_score =  0.9920111514819131\n",
      "  recall_score =  0.7691804011120529\n",
      "  precision_score =  0.7107762528852515\n"
     ]
    },
    {
     "name": "stderr",
     "output_type": "stream",
     "text": [
      " 67%|██████▋   | 2/3 [00:02<00:01,  1.35s/it]"
     ]
    },
    {
     "name": "stdout",
     "output_type": "stream",
     "text": [
      "  f1_score =  0.7208170814552072\n"
     ]
    }
   ],
   "source": [
    "df_test = pd.DataFrame()\n",
    "for test_set in test_sets:\n",
    "    \n",
    "    # Load data into a single dataframe\n",
    "    df_set = pd.read_csv(DATASET_DIRECTORY + test_set)\n",
    "    df_test = df_test._append(df_set, ignore_index=True)\n",
    "\n",
    "# Scale\n",
    "df_test[FEATURES] = scaler.transform(df_test[FEATURES])\n",
    "\n",
    "# Encode labels\n",
    "df_test[LABELS] = df_test[LABELS].apply(lambda x: ATTACKS[x])\n",
    "\n",
    "# Predict\n",
    "for model in tqdm(models):\n",
    "    y_pred = list(models[model].predict(df_test[FEATURES]))\n",
    "\n",
    "    # Evaluate\n",
    "    y_test = list(df_test[LABELS])\n",
    "    print('Model: ', model)\n",
    "    print('  accuracy_score = ', accuracy_score(y_pred, y_test))\n",
    "    print('  recall_score = ', recall_score(y_pred, y_test, average='macro'))\n",
    "    print('  precision_score = ', precision_score(y_pred, y_test, average='macro'))\n",
    "    print('  f1_score = ', f1_score(y_pred, y_test, average='macro'))"
   ]
  }
 ],
 "metadata": {
  "kernelspec": {
   "display_name": "ml_finalproject",
   "language": "python",
   "name": "python3"
  },
  "language_info": {
   "codemirror_mode": {
    "name": "ipython",
    "version": 3
   },
   "file_extension": ".py",
   "mimetype": "text/x-python",
   "name": "python",
   "nbconvert_exporter": "python",
   "pygments_lexer": "ipython3",
   "version": "3.9.12"
  }
 },
 "nbformat": 4,
 "nbformat_minor": 2
}
