{
 "cells": [
  {
   "cell_type": "markdown",
   "metadata": {},
   "source": [
    "# Model Comparison\n",
    "\n",
    "## Imports"
   ]
  },
  {
   "cell_type": "code",
   "execution_count": 2,
   "metadata": {},
   "outputs": [],
   "source": [
    "import os\n",
    "import warnings\n",
    "import pandas as pd\n",
    "from tqdm import tqdm\n",
    "from xgboost import XGBClassifier\n",
    "from sklearn.model_selection import GridSearchCV\n",
    "from sklearn.preprocessing import StandardScaler\n",
    "from sklearn.linear_model import LogisticRegression\n",
    "from utils.constant import ATTACKS, FEATURES, LABELS, DATASET_DIRECTORY\n",
    "from sklearn.metrics import accuracy_score, recall_score, precision_score, f1_score\n",
    "\n",
    "warnings.filterwarnings('ignore')"
   ]
  },
  {
   "cell_type": "markdown",
   "metadata": {},
   "source": [
    "## Dataset"
   ]
  },
  {
   "cell_type": "code",
   "execution_count": 3,
   "metadata": {},
   "outputs": [],
   "source": [
    "# File Paths\n",
    "df_sets = [k for k in os.listdir(DATASET_DIRECTORY) if k.endswith('.csv')]\n",
    "df_sets.sort()\n",
    "\n",
    "# Split\n",
    "training_sets = df_sets[:15]\n",
    "test_sets = df_sets[15:20]\n",
    "\n",
    "# Preprocessing Functions\n",
    "scaler = StandardScaler()"
   ]
  },
  {
   "cell_type": "markdown",
   "metadata": {},
   "source": [
    "### Loading and Preprocessing"
   ]
  },
  {
   "cell_type": "code",
   "execution_count": null,
   "metadata": {},
   "outputs": [],
   "source": [
    "df = pd.DataFrame()\n",
    "for train_set in tqdm(training_sets):\n",
    "\n",
    "    # Load data into a single dataframe\n",
    "    df_set = pd.read_csv(DATASET_DIRECTORY + train_set)\n",
    "    df = df._append(df_set, ignore_index=True)\n",
    "\n",
    "    # Fit scaler\n",
    "    scaler.fit(df_set[FEATURES])\n",
    "\n",
    "# Clean data\n",
    "df = df.dropna()\n",
    "df = df.drop_duplicates()\n",
    "df = df.reset_index(drop=True)\n",
    "\n",
    "# Scale\n",
    "df[FEATURES] = scaler.transform(df[FEATURES])\n",
    "\n",
    "# Encode labels\n",
    "df[LABELS] = df[LABELS].apply(lambda x: ATTACKS[x])"
   ]
  },
  {
   "cell_type": "markdown",
   "metadata": {},
   "source": [
    "## Models"
   ]
  },
  {
   "cell_type": "code",
   "execution_count": 4,
   "metadata": {},
   "outputs": [],
   "source": [
    "models = {\n",
    "    'log_reg': LogisticRegression(),\n",
    "    'xgb': XGBClassifier()\n",
    "}"
   ]
  },
  {
   "cell_type": "markdown",
   "metadata": {},
   "source": [
    "### Training"
   ]
  },
  {
   "cell_type": "code",
   "execution_count": 5,
   "metadata": {},
   "outputs": [
    {
     "name": "stderr",
     "output_type": "stream",
     "text": [
      "100%|██████████| 2/2 [00:00<?, ?it/s]"
     ]
    },
    {
     "name": "stdout",
     "output_type": "stream",
     "text": [
      "log_reg\n",
      "xgb\n"
     ]
    },
    {
     "name": "stderr",
     "output_type": "stream",
     "text": [
      "\n"
     ]
    }
   ],
   "source": [
    "for model in tqdm(models):\n",
    "    models[model].fit(df[FEATURES], df[LABELS])"
   ]
  },
  {
   "cell_type": "markdown",
   "metadata": {},
   "source": [
    "## Evaluation"
   ]
  },
  {
   "cell_type": "code",
   "execution_count": null,
   "metadata": {},
   "outputs": [],
   "source": [
    "df_test = pd.DataFrame()\n",
    "for test_set in test_sets:\n",
    "    \n",
    "    # Load data into a single dataframe\n",
    "    df_set = pd.read_csv(DATASET_DIRECTORY + test_set)\n",
    "    df_test = df_test._append(df_set, ignore_index=True)\n",
    "\n",
    "# Scale\n",
    "df_test[FEATURES] = scaler.transform(df_test[FEATURES])\n",
    "\n",
    "# Encode labels\n",
    "df_test[LABELS] = df_test[LABELS].apply(lambda x: ATTACKS[x])\n",
    "\n",
    "# Predict\n",
    "for model in tqdm(models):\n",
    "    y_pred = list(models[model].predict(df_test[FEATURES]))\n",
    "\n",
    "    # Evaluate\n",
    "    y_test = list(df_test[LABELS])\n",
    "    print('accuracy_score = ', accuracy_score(y_pred, y_test))\n",
    "    print('recall_score = ', recall_score(y_pred, y_test, average='macro'))\n",
    "    print('precision_score = ', precision_score(y_pred, y_test, average='macro'))\n",
    "    print('f1_score = ', f1_score(y_pred, y_test, average='macro'))"
   ]
  }
 ],
 "metadata": {
  "kernelspec": {
   "display_name": "ml_finalproject",
   "language": "python",
   "name": "python3"
  },
  "language_info": {
   "codemirror_mode": {
    "name": "ipython",
    "version": 3
   },
   "file_extension": ".py",
   "mimetype": "text/x-python",
   "name": "python",
   "nbconvert_exporter": "python",
   "pygments_lexer": "ipython3",
   "version": "3.9.12"
  }
 },
 "nbformat": 4,
 "nbformat_minor": 2
}
