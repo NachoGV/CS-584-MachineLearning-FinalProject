{
 "cells": [
  {
   "cell_type": "markdown",
   "metadata": {},
   "source": [
    "# Model Comparison\n",
    "\n",
    "## Imports"
   ]
  },
  {
   "cell_type": "code",
   "execution_count": 1,
   "metadata": {},
   "outputs": [],
   "source": [
    "from utils.dataset_manager import fit_dataset, get_classes_weights\n",
    "from utils.constant import ALL_ATTACKS, FEATURES, LABELS\n",
    "\n",
    "# Models\n",
    "from sklearn.svm import SVC\n",
    "from xgboost import XGBClassifier\n",
    "from sklearn.linear_model import LogisticRegression\n",
    "from sklearn.metrics import accuracy_score, recall_score, precision_score, f1_score, classification_report\n",
    "\n",
    "# Other\n",
    "import warnings\n",
    "from tqdm import tqdm\n",
    "\n",
    "# Ignore warnings\n",
    "warnings.filterwarnings('ignore')"
   ]
  },
  {
   "cell_type": "markdown",
   "metadata": {},
   "source": [
    "## Dataset"
   ]
  },
  {
   "cell_type": "code",
   "execution_count": 2,
   "metadata": {},
   "outputs": [
    {
     "name": "stderr",
     "output_type": "stream",
     "text": [
      "100%|██████████| 2/2 [00:09<00:00,  4.97s/it]\n",
      "100%|██████████| 1/1 [00:03<00:00,  3.46s/it]\n"
     ]
    },
    {
     "name": "stdout",
     "output_type": "stream",
     "text": [
      "Training Population: 457492\n",
      "Testing Population: 275258\n"
     ]
    }
   ],
   "source": [
    "n_files = 2\n",
    "\n",
    "df_train, df_test = fit_dataset(n_files, ALL_ATTACKS)\n",
    "\n",
    "X_train, y_train = df_train[FEATURES], df_train[LABELS]\n",
    "X_test, y_test = df_test[FEATURES], df_test[LABELS]\n",
    "\n",
    "# Prints\n",
    "print('Training Population: {}'.format(len(df_train)))\n",
    "print('Testing Population: {}'.format(len(df_test)))"
   ]
  },
  {
   "cell_type": "markdown",
   "metadata": {},
   "source": [
    "## Models"
   ]
  },
  {
   "cell_type": "markdown",
   "metadata": {},
   "source": [
    "Since we have unbalanced data, we have to add their weigth in each model"
   ]
  },
  {
   "cell_type": "code",
   "execution_count": 4,
   "metadata": {},
   "outputs": [],
   "source": [
    "models = {\n",
    "    'log_reg': LogisticRegression(class_weight=get_classes_weights(df_train)),\n",
    "    'xgb': XGBClassifier(),\n",
    "    #'svm': SVC(), # Too slow\n",
    "}"
   ]
  },
  {
   "cell_type": "markdown",
   "metadata": {},
   "source": [
    "### Training"
   ]
  },
  {
   "cell_type": "code",
   "execution_count": 5,
   "metadata": {},
   "outputs": [
    {
     "name": "stderr",
     "output_type": "stream",
     "text": [
      "100%|██████████| 2/2 [04:01<00:00, 120.87s/it]\n"
     ]
    }
   ],
   "source": [
    "for model in tqdm(models):\n",
    "    models[model].fit(X_train, y_train)"
   ]
  },
  {
   "cell_type": "markdown",
   "metadata": {},
   "source": [
    "## Evaluation"
   ]
  },
  {
   "cell_type": "code",
   "execution_count": 6,
   "metadata": {},
   "outputs": [
    {
     "name": "stderr",
     "output_type": "stream",
     "text": [
      "  0%|          | 0/2 [00:00<?, ?it/s]"
     ]
    },
    {
     "name": "stdout",
     "output_type": "stream",
     "text": [
      "Model:  log_reg\n",
      "  accuracy_score =  0.7741936655792021\n",
      "  recall_score =  0.48097141706008584\n",
      "  precision_score =  0.5256358749894402\n",
      "  f1_score =  0.473294530373888\n"
     ]
    },
    {
     "name": "stderr",
     "output_type": "stream",
     "text": [
      " 50%|█████     | 1/2 [00:02<00:02,  2.74s/it]"
     ]
    },
    {
     "name": "stdout",
     "output_type": "stream",
     "text": [
      "  classification_report = \n",
      "               precision    recall  f1-score   support\n",
      "\n",
      "           0       1.00      1.00      1.00     23779\n",
      "           1       0.98      1.00      0.99     23474\n",
      "           2       0.93      0.66      0.77     34163\n",
      "           3       0.90      0.72      0.80     39454\n",
      "           4       0.79      0.65      0.71     32416\n",
      "           5       1.00      1.00      1.00     42280\n",
      "           6       0.63      0.77      0.69     17480\n",
      "           7       0.98      0.91      0.94      1758\n",
      "           8       0.98      0.92      0.95      1800\n",
      "           9       0.97      0.97      0.97      2680\n",
      "          10       0.51      0.15      0.23       459\n",
      "          11       0.69      0.26      0.37       396\n",
      "          12       0.44      0.74      0.55     11745\n",
      "          13       0.21      0.47      0.29      5279\n",
      "          14       0.27      0.43      0.33     10205\n",
      "          15       0.76      0.62      0.68       562\n",
      "          16       0.65      0.59      0.62      6261\n",
      "          17       0.41      0.49      0.45      3834\n",
      "          18       0.99      0.99      0.99      5225\n",
      "          19       0.10      0.00      0.00       548\n",
      "          20       0.06      0.13      0.08       261\n",
      "          21       0.06      0.06      0.06       523\n",
      "          22       0.56      0.17      0.26       700\n",
      "          23       0.53      0.64      0.58       678\n",
      "          24       0.22      0.27      0.24       865\n",
      "          25       0.50      0.70      0.59      1322\n",
      "          26       0.56      0.90      0.69      3957\n",
      "          27       0.22      0.01      0.02       732\n",
      "          28       0.08      0.00      0.00       463\n",
      "          29       0.27      0.01      0.02       489\n",
      "          30       0.00      0.00      0.00       579\n",
      "          31       0.14      0.01      0.02       453\n",
      "          32       0.24      0.03      0.05       221\n",
      "          33       0.24      0.10      0.14       217\n",
      "\n",
      "    accuracy                           0.77    275258\n",
      "   macro avg       0.53      0.48      0.47    275258\n",
      "weighted avg       0.82      0.77      0.78    275258\n",
      "\n",
      "Model:  xgb\n",
      "  accuracy_score =  0.9922945018855038\n",
      "  recall_score =  0.7672856714957524\n",
      "  precision_score =  0.7244137549510503\n",
      "  f1_score =  0.7355250278395755\n"
     ]
    },
    {
     "name": "stderr",
     "output_type": "stream",
     "text": [
      "100%|██████████| 2/2 [00:11<00:00,  5.62s/it]"
     ]
    },
    {
     "name": "stdout",
     "output_type": "stream",
     "text": [
      "  classification_report = \n",
      "               precision    recall  f1-score   support\n",
      "\n",
      "           0       1.00      1.00      1.00     23824\n",
      "           1       1.00      1.00      1.00     23890\n",
      "           2       1.00      1.00      1.00     24172\n",
      "           3       1.00      1.00      1.00     31749\n",
      "           4       1.00      1.00      1.00     26523\n",
      "           5       1.00      1.00      1.00     42340\n",
      "           6       1.00      1.00      1.00     21422\n",
      "           7       1.00      1.00      1.00      1635\n",
      "           8       1.00      1.00      1.00      1689\n",
      "           9       1.00      1.00      1.00      2676\n",
      "          10       0.98      0.97      0.98       133\n",
      "          11       0.98      0.97      0.97       148\n",
      "          12       1.00      1.00      1.00     19592\n",
      "          13       1.00      1.00      1.00     12010\n",
      "          14       1.00      1.00      1.00     15932\n",
      "          15       0.99      1.00      0.99       450\n",
      "          16       1.00      1.00      1.00      5683\n",
      "          17       1.00      0.99      1.00      4523\n",
      "          18       1.00      1.00      1.00      5247\n",
      "          19       0.00      0.00      0.00         2\n",
      "          20       0.34      0.55      0.42       351\n",
      "          21       0.54      0.59      0.57       443\n",
      "          22       0.98      0.97      0.97       208\n",
      "          23       0.78      0.74      0.76       857\n",
      "          24       0.66      0.71      0.68       990\n",
      "          25       0.80      0.85      0.82      1736\n",
      "          26       0.96      0.88      0.92      6964\n",
      "          27       0.03      0.25      0.05         4\n",
      "          28       0.00      0.00      0.00         5\n",
      "          29       0.00      0.00      0.00         1\n",
      "          30       0.00      0.00      0.00         2\n",
      "          31       0.10      0.20      0.14        15\n",
      "          32       0.24      0.67      0.35         9\n",
      "          33       0.27      0.76      0.40        33\n",
      "\n",
      "    accuracy                           0.99    275258\n",
      "   macro avg       0.72      0.77      0.74    275258\n",
      "weighted avg       0.99      0.99      0.99    275258\n",
      "\n"
     ]
    },
    {
     "name": "stderr",
     "output_type": "stream",
     "text": [
      "\n"
     ]
    }
   ],
   "source": [
    "# Predict\n",
    "for model in tqdm(models):\n",
    "    y_pred = list(models[model].predict(X_test))\n",
    "\n",
    "    # Evaluate\n",
    "    y_test = list(y_test)\n",
    "    print('Model: ', model)\n",
    "    print('  accuracy_score = ', accuracy_score(y_pred, y_test))\n",
    "    print('  recall_score = ', recall_score(y_pred, y_test, average='macro'))\n",
    "    print('  precision_score = ', precision_score(y_pred, y_test, average='macro'))\n",
    "    print('  f1_score = ', f1_score(y_pred, y_test, average='macro'))\n",
    "    print('  classification_report = \\n', classification_report(y_pred, y_test))"
   ]
  }
 ],
 "metadata": {
  "kernelspec": {
   "display_name": "ml_finalproject",
   "language": "python",
   "name": "python3"
  },
  "language_info": {
   "codemirror_mode": {
    "name": "ipython",
    "version": 3
   },
   "file_extension": ".py",
   "mimetype": "text/x-python",
   "name": "python",
   "nbconvert_exporter": "python",
   "pygments_lexer": "ipython3",
   "version": "3.10.12"
  }
 },
 "nbformat": 4,
 "nbformat_minor": 2
}
