{
 "cells": [
  {
   "cell_type": "markdown",
   "metadata": {},
   "source": [
    "# Model Comparison\n",
    "\n",
    "## Imports"
   ]
  },
  {
   "cell_type": "code",
   "execution_count": 1,
   "metadata": {},
   "outputs": [],
   "source": [
    "# Preprocessing\n",
    "from sklearn.preprocessing import StandardScaler\n",
    "from sklearn.model_selection import GridSearchCV\n",
    "\n",
    "# Models\n",
    "from sklearn.svm import SVC\n",
    "from xgboost import XGBClassifier\n",
    "from sklearn.linear_model import LogisticRegression\n",
    "from sklearn.metrics import accuracy_score, recall_score, precision_score, f1_score\n",
    "\n",
    "# Custom\n",
    "from utils.constant import ATTACKS, FEATURES, LABELS, DATASET_DIRECTORY\n",
    "\n",
    "# Other\n",
    "import os\n",
    "import warnings\n",
    "import pandas as pd\n",
    "from tqdm import tqdm\n",
    "\n",
    "# Ignore warnings\n",
    "warnings.filterwarnings('ignore')"
   ]
  },
  {
   "cell_type": "markdown",
   "metadata": {},
   "source": [
    "## Dataset"
   ]
  },
  {
   "cell_type": "code",
   "execution_count": 5,
   "metadata": {},
   "outputs": [],
   "source": [
    "# File Paths\n",
    "df_sets = [k for k in os.listdir(DATASET_DIRECTORY) if k.endswith('.csv')]\n",
    "df_sets.sort()\n",
    "\n",
    "# Split\n",
    "training_sets = df_sets[:10]\n",
    "test_sets = df_sets[10:15]\n",
    "\n",
    "# Preprocessing Functions\n",
    "scaler = StandardScaler()"
   ]
  },
  {
   "cell_type": "markdown",
   "metadata": {},
   "source": [
    "### Loading and Preprocessing"
   ]
  },
  {
   "cell_type": "code",
   "execution_count": 6,
   "metadata": {},
   "outputs": [
    {
     "name": "stderr",
     "output_type": "stream",
     "text": [
      "0it [00:00, ?it/s]\n"
     ]
    },
    {
     "ename": "KeyError",
     "evalue": "\"None of [Index(['flow_duration', 'Header_Length', 'Protocol Type', 'Duration', 'Rate',\\n       'Srate', 'Drate', 'fin_flag_number', 'syn_flag_number',\\n       'rst_flag_number', 'psh_flag_number', 'ack_flag_number',\\n       'ece_flag_number', 'cwr_flag_number', 'ack_count', 'syn_count',\\n       'fin_count', 'urg_count', 'rst_count', 'HTTP', 'HTTPS', 'DNS', 'Telnet',\\n       'SMTP', 'SSH', 'IRC', 'TCP', 'UDP', 'DHCP', 'ARP', 'ICMP', 'IPv', 'LLC',\\n       'Tot sum', 'Min', 'Max', 'AVG', 'Std', 'Tot size', 'IAT', 'Number',\\n       'Magnitue', 'Radius', 'Covariance', 'Variance', 'Weight'],\\n      dtype='object')] are in the [columns]\"",
     "output_type": "error",
     "traceback": [
      "\u001b[1;31m---------------------------------------------------------------------------\u001b[0m",
      "\u001b[1;31mKeyError\u001b[0m                                  Traceback (most recent call last)",
      "\u001b[1;32mc:\\Users\\ignac\\OneDrive\\Documents\\Master_IIT\\CS-584-ML\\CS-584-FinalProject\\main.ipynb Cell 6\u001b[0m line \u001b[0;36m1\n\u001b[0;32m     <a href='vscode-notebook-cell:/c%3A/Users/ignac/OneDrive/Documents/Master_IIT/CS-584-ML/CS-584-FinalProject/main.ipynb#W5sZmlsZQ%3D%3D?line=14'>15</a>\u001b[0m df \u001b[39m=\u001b[39m df\u001b[39m.\u001b[39mreset_index(drop\u001b[39m=\u001b[39m\u001b[39mTrue\u001b[39;00m)\n\u001b[0;32m     <a href='vscode-notebook-cell:/c%3A/Users/ignac/OneDrive/Documents/Master_IIT/CS-584-ML/CS-584-FinalProject/main.ipynb#W5sZmlsZQ%3D%3D?line=16'>17</a>\u001b[0m \u001b[39m# Scale\u001b[39;00m\n\u001b[1;32m---> <a href='vscode-notebook-cell:/c%3A/Users/ignac/OneDrive/Documents/Master_IIT/CS-584-ML/CS-584-FinalProject/main.ipynb#W5sZmlsZQ%3D%3D?line=17'>18</a>\u001b[0m df[FEATURES] \u001b[39m=\u001b[39m scaler\u001b[39m.\u001b[39mtransform(df[FEATURES])\n\u001b[0;32m     <a href='vscode-notebook-cell:/c%3A/Users/ignac/OneDrive/Documents/Master_IIT/CS-584-ML/CS-584-FinalProject/main.ipynb#W5sZmlsZQ%3D%3D?line=19'>20</a>\u001b[0m \u001b[39m# Encode labels\u001b[39;00m\n\u001b[0;32m     <a href='vscode-notebook-cell:/c%3A/Users/ignac/OneDrive/Documents/Master_IIT/CS-584-ML/CS-584-FinalProject/main.ipynb#W5sZmlsZQ%3D%3D?line=20'>21</a>\u001b[0m df[LABELS] \u001b[39m=\u001b[39m df[LABELS]\u001b[39m.\u001b[39mapply(\u001b[39mlambda\u001b[39;00m x: ATTACKS[x])\n",
      "File \u001b[1;32mc:\\Users\\ignac\\anaconda3\\envs\\ml_finalproject\\lib\\site-packages\\pandas\\core\\frame.py:3899\u001b[0m, in \u001b[0;36mDataFrame.__getitem__\u001b[1;34m(self, key)\u001b[0m\n\u001b[0;32m   3897\u001b[0m     \u001b[39mif\u001b[39;00m is_iterator(key):\n\u001b[0;32m   3898\u001b[0m         key \u001b[39m=\u001b[39m \u001b[39mlist\u001b[39m(key)\n\u001b[1;32m-> 3899\u001b[0m     indexer \u001b[39m=\u001b[39m \u001b[39mself\u001b[39;49m\u001b[39m.\u001b[39;49mcolumns\u001b[39m.\u001b[39;49m_get_indexer_strict(key, \u001b[39m\"\u001b[39;49m\u001b[39mcolumns\u001b[39;49m\u001b[39m\"\u001b[39;49m)[\u001b[39m1\u001b[39m]\n\u001b[0;32m   3901\u001b[0m \u001b[39m# take() does not accept boolean indexers\u001b[39;00m\n\u001b[0;32m   3902\u001b[0m \u001b[39mif\u001b[39;00m \u001b[39mgetattr\u001b[39m(indexer, \u001b[39m\"\u001b[39m\u001b[39mdtype\u001b[39m\u001b[39m\"\u001b[39m, \u001b[39mNone\u001b[39;00m) \u001b[39m==\u001b[39m \u001b[39mbool\u001b[39m:\n",
      "File \u001b[1;32mc:\\Users\\ignac\\anaconda3\\envs\\ml_finalproject\\lib\\site-packages\\pandas\\core\\indexes\\base.py:6114\u001b[0m, in \u001b[0;36mIndex._get_indexer_strict\u001b[1;34m(self, key, axis_name)\u001b[0m\n\u001b[0;32m   6111\u001b[0m \u001b[39melse\u001b[39;00m:\n\u001b[0;32m   6112\u001b[0m     keyarr, indexer, new_indexer \u001b[39m=\u001b[39m \u001b[39mself\u001b[39m\u001b[39m.\u001b[39m_reindex_non_unique(keyarr)\n\u001b[1;32m-> 6114\u001b[0m \u001b[39mself\u001b[39;49m\u001b[39m.\u001b[39;49m_raise_if_missing(keyarr, indexer, axis_name)\n\u001b[0;32m   6116\u001b[0m keyarr \u001b[39m=\u001b[39m \u001b[39mself\u001b[39m\u001b[39m.\u001b[39mtake(indexer)\n\u001b[0;32m   6117\u001b[0m \u001b[39mif\u001b[39;00m \u001b[39misinstance\u001b[39m(key, Index):\n\u001b[0;32m   6118\u001b[0m     \u001b[39m# GH 42790 - Preserve name from an Index\u001b[39;00m\n",
      "File \u001b[1;32mc:\\Users\\ignac\\anaconda3\\envs\\ml_finalproject\\lib\\site-packages\\pandas\\core\\indexes\\base.py:6175\u001b[0m, in \u001b[0;36mIndex._raise_if_missing\u001b[1;34m(self, key, indexer, axis_name)\u001b[0m\n\u001b[0;32m   6173\u001b[0m     \u001b[39mif\u001b[39;00m use_interval_msg:\n\u001b[0;32m   6174\u001b[0m         key \u001b[39m=\u001b[39m \u001b[39mlist\u001b[39m(key)\n\u001b[1;32m-> 6175\u001b[0m     \u001b[39mraise\u001b[39;00m \u001b[39mKeyError\u001b[39;00m(\u001b[39mf\u001b[39m\u001b[39m\"\u001b[39m\u001b[39mNone of [\u001b[39m\u001b[39m{\u001b[39;00mkey\u001b[39m}\u001b[39;00m\u001b[39m] are in the [\u001b[39m\u001b[39m{\u001b[39;00maxis_name\u001b[39m}\u001b[39;00m\u001b[39m]\u001b[39m\u001b[39m\"\u001b[39m)\n\u001b[0;32m   6177\u001b[0m not_found \u001b[39m=\u001b[39m \u001b[39mlist\u001b[39m(ensure_index(key)[missing_mask\u001b[39m.\u001b[39mnonzero()[\u001b[39m0\u001b[39m]]\u001b[39m.\u001b[39munique())\n\u001b[0;32m   6178\u001b[0m \u001b[39mraise\u001b[39;00m \u001b[39mKeyError\u001b[39;00m(\u001b[39mf\u001b[39m\u001b[39m\"\u001b[39m\u001b[39m{\u001b[39;00mnot_found\u001b[39m}\u001b[39;00m\u001b[39m not in index\u001b[39m\u001b[39m\"\u001b[39m)\n",
      "\u001b[1;31mKeyError\u001b[0m: \"None of [Index(['flow_duration', 'Header_Length', 'Protocol Type', 'Duration', 'Rate',\\n       'Srate', 'Drate', 'fin_flag_number', 'syn_flag_number',\\n       'rst_flag_number', 'psh_flag_number', 'ack_flag_number',\\n       'ece_flag_number', 'cwr_flag_number', 'ack_count', 'syn_count',\\n       'fin_count', 'urg_count', 'rst_count', 'HTTP', 'HTTPS', 'DNS', 'Telnet',\\n       'SMTP', 'SSH', 'IRC', 'TCP', 'UDP', 'DHCP', 'ARP', 'ICMP', 'IPv', 'LLC',\\n       'Tot sum', 'Min', 'Max', 'AVG', 'Std', 'Tot size', 'IAT', 'Number',\\n       'Magnitue', 'Radius', 'Covariance', 'Variance', 'Weight'],\\n      dtype='object')] are in the [columns]\""
     ]
    }
   ],
   "source": [
    "# Create dataframe\n",
    "df = pd.DataFrame()\n",
    "for train_set in tqdm(training_sets):\n",
    "\n",
    "    # Load data into a single dataframe\n",
    "    df_set = pd.read_csv(DATASET_DIRECTORY + train_set)\n",
    "    df = df._append(df_set, ignore_index=True)\n",
    "\n",
    "    # Fit scaler\n",
    "    scaler.fit(df_set[FEATURES])\n",
    "\n",
    "# Clean data\n",
    "df = df.dropna()\n",
    "df = df.drop_duplicates()\n",
    "df = df.reset_index(drop=True)\n",
    "\n",
    "# Scale\n",
    "df[FEATURES] = scaler.transform(df[FEATURES])\n",
    "\n",
    "# Encode labels\n",
    "df[LABELS] = df[LABELS].apply(lambda x: ATTACKS[x])"
   ]
  },
  {
   "cell_type": "markdown",
   "metadata": {},
   "source": [
    "## Models"
   ]
  },
  {
   "cell_type": "code",
   "execution_count": null,
   "metadata": {},
   "outputs": [],
   "source": [
    "models = {\n",
    "    'log_reg': LogisticRegression(),\n",
    "    'xgb': XGBClassifier(),\n",
    "    'svm': SVC(),\n",
    "}"
   ]
  },
  {
   "cell_type": "markdown",
   "metadata": {},
   "source": [
    "### Training"
   ]
  },
  {
   "cell_type": "code",
   "execution_count": null,
   "metadata": {},
   "outputs": [
    {
     "name": "stderr",
     "output_type": "stream",
     "text": [
      "100%|██████████| 3/3 [12:50<00:00, 256.85s/it]\n"
     ]
    }
   ],
   "source": [
    "for model in tqdm(models):\n",
    "    models[model].fit(df[FEATURES], df[LABELS])"
   ]
  },
  {
   "cell_type": "markdown",
   "metadata": {},
   "source": [
    "## Evaluation"
   ]
  },
  {
   "cell_type": "code",
   "execution_count": null,
   "metadata": {},
   "outputs": [
    {
     "name": "stderr",
     "output_type": "stream",
     "text": [
      "  0%|          | 0/3 [00:00<?, ?it/s]"
     ]
    },
    {
     "name": "stdout",
     "output_type": "stream",
     "text": [
      "Model:  log_reg\n",
      "  accuracy_score =  0.8043646168963232\n",
      "  recall_score =  0.5946313957995658\n",
      "  precision_score =  0.4908326519822142\n"
     ]
    },
    {
     "name": "stderr",
     "output_type": "stream",
     "text": [
      " 33%|███▎      | 1/3 [00:00<00:01,  1.16it/s]"
     ]
    },
    {
     "name": "stdout",
     "output_type": "stream",
     "text": [
      "  f1_score =  0.4961079750698912\n",
      "Model:  xgb\n",
      "  accuracy_score =  0.9920111514819131\n",
      "  recall_score =  0.7691804011120529\n",
      "  precision_score =  0.7107762528852515\n"
     ]
    },
    {
     "name": "stderr",
     "output_type": "stream",
     "text": [
      " 67%|██████▋   | 2/3 [00:02<00:01,  1.35s/it]"
     ]
    },
    {
     "name": "stdout",
     "output_type": "stream",
     "text": [
      "  f1_score =  0.7208170814552072\n"
     ]
    }
   ],
   "source": [
    "df_test = pd.DataFrame()\n",
    "for test_set in test_sets:\n",
    "    \n",
    "    # Load data into a single dataframe\n",
    "    df_set = pd.read_csv(DATASET_DIRECTORY + test_set)\n",
    "    df_test = df_test._append(df_set, ignore_index=True)\n",
    "\n",
    "# Scale\n",
    "df_test[FEATURES] = scaler.transform(df_test[FEATURES])\n",
    "\n",
    "# Encode labels\n",
    "df_test[LABELS] = df_test[LABELS].apply(lambda x: ATTACKS[x])\n",
    "\n",
    "# Predict\n",
    "for model in tqdm(models):\n",
    "    y_pred = list(models[model].predict(df_test[FEATURES]))\n",
    "\n",
    "    # Evaluate\n",
    "    y_test = list(df_test[LABELS])\n",
    "    print('Model: ', model)\n",
    "    print('  accuracy_score = ', accuracy_score(y_pred, y_test))\n",
    "    print('  recall_score = ', recall_score(y_pred, y_test, average='macro'))\n",
    "    print('  precision_score = ', precision_score(y_pred, y_test, average='macro'))\n",
    "    print('  f1_score = ', f1_score(y_pred, y_test, average='macro'))"
   ]
  }
 ],
 "metadata": {
  "kernelspec": {
   "display_name": "ml_finalproject",
   "language": "python",
   "name": "python3"
  },
  "language_info": {
   "codemirror_mode": {
    "name": "ipython",
    "version": 3
   },
   "file_extension": ".py",
   "mimetype": "text/x-python",
   "name": "python",
   "nbconvert_exporter": "python",
   "pygments_lexer": "ipython3",
   "version": "3.9.12"
  }
 },
 "nbformat": 4,
 "nbformat_minor": 2
}
